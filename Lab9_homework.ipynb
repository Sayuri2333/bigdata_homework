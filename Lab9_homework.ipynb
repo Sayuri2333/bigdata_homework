{
 "cells": [
  {
   "cell_type": "markdown",
   "metadata": {},
   "source": [
    "# 数据预处理"
   ]
  },
  {
   "cell_type": "code",
   "execution_count": 1,
   "metadata": {},
   "outputs": [
    {
     "data": {
      "text/plain": [
       "array([[5.1, 3.5, 1.4, 0.2],\n",
       "       [4.9, 3. , 1.4, 0.2],\n",
       "       [4.7, 3.2, 1.3, 0.2],\n",
       "       [4.6, 3.1, 1.5, 0.2],\n",
       "       [5. , 3.6, 1.4, 0.2]])"
      ]
     },
     "execution_count": 1,
     "metadata": {},
     "output_type": "execute_result"
    }
   ],
   "source": [
    "# 载入数据\n",
    "from sklearn.datasets import load_iris\n",
    "# iris.data 表示特征矩阵, iris.target 表示类别向量\n",
    "iris=load_iris().data\n",
    "iris[:5]"
   ]
  },
  {
   "cell_type": "code",
   "execution_count": 2,
   "metadata": {},
   "outputs": [
    {
     "data": {
      "text/plain": [
       "array([0, 0, 0, 0, 0])"
      ]
     },
     "execution_count": 2,
     "metadata": {},
     "output_type": "execute_result"
    }
   ],
   "source": [
    "iris_target=load_iris().target\n",
    "iris_target[:5]"
   ]
  },
  {
   "cell_type": "code",
   "execution_count": 3,
   "metadata": {},
   "outputs": [],
   "source": [
    "#数据预处理， sklearn.preprocessing 提供一些预处理工具\n",
    "# MinMaxScaler 作用是将属性缩放到一个指定范围, 即(x-min)/(max-min), 也称归一化\n",
    "from sklearn.preprocessing import MinMaxScaler\n",
    "MinMaxTransformer=MinMaxScaler()"
   ]
  },
  {
   "cell_type": "code",
   "execution_count": 4,
   "metadata": {},
   "outputs": [
    {
     "data": {
      "text/plain": [
       "array([[0.22222222, 0.625     , 0.06779661, 0.04166667],\n",
       "       [0.16666667, 0.41666667, 0.06779661, 0.04166667],\n",
       "       [0.11111111, 0.5       , 0.05084746, 0.04166667],\n",
       "       [0.08333333, 0.45833333, 0.08474576, 0.04166667],\n",
       "       [0.19444444, 0.66666667, 0.06779661, 0.04166667]])"
      ]
     },
     "execution_count": 4,
     "metadata": {},
     "output_type": "execute_result"
    }
   ],
   "source": [
    "MinMaxTransformer.fit(iris) #计算最大, 最小值\n",
    "iris_transformed=MinMaxTransformer.transform(iris)\n",
    "iris_transformed[:5]"
   ]
  },
  {
   "cell_type": "code",
   "execution_count": 5,
   "metadata": {},
   "outputs": [],
   "source": [
    "#切分数据集\n",
    "from sklearn.model_selection import train_test_split\n",
    "X_train, X_test, y_train, y_test=train_test_split(iris_transformed, iris_target, random_state=14)"
   ]
  },
  {
   "cell_type": "markdown",
   "metadata": {},
   "source": [
    "# 构造 SVM 分类器"
   ]
  },
  {
   "cell_type": "markdown",
   "metadata": {},
   "source": [
    "1. 利用默认参数训练，并预测:"
   ]
  },
  {
   "cell_type": "code",
   "execution_count": 6,
   "metadata": {},
   "outputs": [
    {
     "name": "stdout",
     "output_type": "stream",
     "text": [
      "the accuracy of SVM model is 97.36842105263158%\n"
     ]
    }
   ],
   "source": [
    "from sklearn.svm import SVC\n",
    "import numpy as np\n",
    "svm=SVC()\n",
    "svm.fit(X_train, y_train)\n",
    "predict_labels=svm.predict(X_test)\n",
    "accuracy=np.mean(predict_labels==y_test)*100\n",
    "print(\"the accuracy of SVM model is {0}%\".format(accuracy))"
   ]
  },
  {
   "cell_type": "markdown",
   "metadata": {},
   "source": [
    "2. 利用 sklearn 提供的 Grid_searchCV 来寻找最佳参数："
   ]
  },
  {
   "cell_type": "code",
   "execution_count": 7,
   "metadata": {
    "scrolled": false
   },
   "outputs": [
    {
     "name": "stdout",
     "output_type": "stream",
     "text": [
      "Best parameters: \n",
      "{'C': 1, 'kernel': 'linear'}\n",
      "0.375 (+/-0.009387856744060414) for {'C': 1, 'gamma': 0.001, 'kernel': 'rbf'}\n",
      "0.375 (+/-0.009387856744060414) for {'C': 1, 'gamma': 0.0001, 'kernel': 'rbf'}\n",
      "0.375 (+/-0.009387856744060414) for {'C': 10, 'gamma': 0.001, 'kernel': 'rbf'}\n",
      "0.375 (+/-0.009387856744060414) for {'C': 10, 'gamma': 0.0001, 'kernel': 'rbf'}\n",
      "0.875 (+/-0.05235532950912191) for {'C': 100, 'gamma': 0.001, 'kernel': 'rbf'}\n",
      "0.375 (+/-0.009387856744060414) for {'C': 100, 'gamma': 0.0001, 'kernel': 'rbf'}\n",
      "0.9285714285714286 (+/-0.04828040611231049) for {'C': 1000, 'gamma': 0.001, 'kernel': 'rbf'}\n",
      "0.875 (+/-0.05235532950912191) for {'C': 1000, 'gamma': 0.0001, 'kernel': 'rbf'}\n",
      "0.9553571428571429 (+/-0.048950967308314886) for {'C': 1, 'kernel': 'linear'}\n",
      "0.9285714285714286 (+/-0.06541323607768817) for {'C': 10, 'kernel': 'linear'}\n",
      "0.9285714285714286 (+/-0.06541323607768817) for {'C': 100, 'kernel': 'linear'}\n",
      "0.9285714285714286 (+/-0.06541323607768817) for {'C': 1000, 'kernel': 'linear'}\n"
     ]
    },
    {
     "name": "stderr",
     "output_type": "stream",
     "text": [
      "C:\\Users\\HASEE\\Anaconda3\\lib\\site-packages\\sklearn\\cross_validation.py:41: DeprecationWarning: This module was deprecated in version 0.18 in favor of the model_selection module into which all the refactored classes and functions are moved. Also note that the interface of the new CV iterators are different from that of this module. This module will be removed in 0.20.\n",
      "  \"This module will be removed in 0.20.\", DeprecationWarning)\n",
      "C:\\Users\\HASEE\\Anaconda3\\lib\\site-packages\\sklearn\\grid_search.py:42: DeprecationWarning: This module was deprecated in version 0.18 in favor of the model_selection module into which all the refactored classes and functions are moved. This module will be removed in 0.20.\n",
      "  DeprecationWarning)\n"
     ]
    }
   ],
   "source": [
    "# 利用 sklearn 提供的 Grid_searchCV 来寻找最佳参数\n",
    "from sklearn.grid_search import GridSearchCV\n",
    "from sklearn.svm import SVC\n",
    "svm=SVC()\n",
    "#候选参数\n",
    "tuned_parameters = [{'n_estimators': [10, 50, 100], 'learning_rate': [.5, 1, 2],\n",
    "'algorithm': ['SAMME', 'SAMME.R']}]\n",
    "clf=GridSearchCV(svm, tuned_parameters)\n",
    "clf.fit(X_train, y_train)\n",
    "#输出最优参数\n",
    "print(\"Best parameters: \")\n",
    "print(clf.best_params_)\n",
    "for params, mean_score, scores in clf.grid_scores_:\n",
    "    print(\"{0} (+/-{1}) for {2}\".format(mean_score, scores.std()*2, params))"
   ]
  },
  {
   "cell_type": "markdown",
   "metadata": {},
   "source": [
    "3. 利用获得的参数预测："
   ]
  },
  {
   "cell_type": "code",
   "execution_count": 8,
   "metadata": {},
   "outputs": [
    {
     "name": "stdout",
     "output_type": "stream",
     "text": [
      "the accuracy of SVM model is 97.36842105263158%\n"
     ]
    }
   ],
   "source": [
    "# 使用获得的参数进行预测\n",
    "from sklearn.svm import SVC\n",
    "svm=SVC(C=1000, gamma=0.001, kernel='rbf')\n",
    "svm.fit(X_train, y_train)\n",
    "predict_labels=svm.predict(X_test)\n",
    "accuracy=np.mean(predict_labels==y_test)*100\n",
    "print(\"the accuracy of SVM model is {0}%\".format(accuracy))"
   ]
  },
  {
   "cell_type": "markdown",
   "metadata": {},
   "source": [
    "4. 使用 matplotlib 描述不同参数设置下模型准确率的变化："
   ]
  },
  {
   "cell_type": "code",
   "execution_count": 10,
   "metadata": {},
   "outputs": [
    {
     "data": {
      "image/png": "[encoded data removed]",
      "text/plain": [
       "<Figure size 432x288 with 1 Axes>"
      ]
     },
     "metadata": {},
     "output_type": "display_data"
    }
   ],
   "source": [
    "# 使用 matplotlib 描述不同参数设置下模型准确率的变化\n",
    "Cs=[]\n",
    "accuracies=[]\n",
    "for c in range(10, 200, 1):\n",
    "    svm=SVC(C=c, gamma=0.001, kernel= 'rbf')\n",
    "    svm.fit(X_train, y_train)\n",
    "    predict_labels= svm.predict(X_test)\n",
    "    accuracy = np.mean(predict_labels==y_test)*100\n",
    "    # print(\"the accuracy of SVM model with C = {0} is {1}\".format(c, accuracy))\n",
    "    Cs.append(c)\n",
    "    accuracies.append(accuracy)\n",
    "import matplotlib.pyplot as plt\n",
    "import seaborn as sns\n",
    "sns.set_style('whitegrid')\n",
    "plt.title(\"SVC model: argument: C\")\n",
    "plt.xlabel(\"C\")\n",
    "plt.ylabel(\"Accuracy\")\n",
    "plt.plot(Cs, accuracies, 'cyan')\n",
    "plt.show()"
   ]
  },
  {
   "cell_type": "markdown",
   "metadata": {},
   "source": [
    "# 完成习题"
   ]
  },
  {
   "cell_type": "markdown",
   "metadata": {},
   "source": [
    "> iris 数据集有哪几个属性和类别？"
   ]
  },
  {
   "cell_type": "markdown",
   "metadata": {},
   "source": [
    "使用load_iris()中的feature_names方法可以获得数据集的属性名称如下:"
   ]
  },
  {
   "cell_type": "code",
   "execution_count": 10,
   "metadata": {},
   "outputs": [
    {
     "data": {
      "text/plain": [
       "['sepal length (cm)',\n",
       " 'sepal width (cm)',\n",
       " 'petal length (cm)',\n",
       " 'petal width (cm)']"
      ]
     },
     "execution_count": 10,
     "metadata": {},
     "output_type": "execute_result"
    }
   ],
   "source": [
    "data = load_iris()\n",
    "data.feature_names"
   ]
  },
  {
   "cell_type": "markdown",
   "metadata": {},
   "source": [
    "使用load_iris()中的target_name方法可以获得数据集的类别名称如下:"
   ]
  },
  {
   "cell_type": "code",
   "execution_count": 11,
   "metadata": {},
   "outputs": [
    {
     "data": {
      "text/plain": [
       "array(['setosa', 'versicolor', 'virginica'], dtype='<U10')"
      ]
     },
     "execution_count": 11,
     "metadata": {},
     "output_type": "execute_result"
    }
   ],
   "source": [
    "data.target_names"
   ]
  },
  {
   "cell_type": "markdown",
   "metadata": {},
   "source": [
    "> 利用 sklearn.preprocessing 的标准化（Z-Score）、 归一化（Normalization）分别对 iris 数据集进行预处理，并查看处理后的数据。"
   ]
  },
  {
   "cell_type": "markdown",
   "metadata": {},
   "source": [
    "对数据进行Z-score标准化处理:"
   ]
  },
  {
   "cell_type": "code",
   "execution_count": 12,
   "metadata": {},
   "outputs": [
    {
     "data": {
      "text/plain": [
       "array([-1.69031455e-15, -1.63702385e-15, -1.48251781e-15, -1.62314606e-15])"
      ]
     },
     "execution_count": 12,
     "metadata": {},
     "output_type": "execute_result"
    }
   ],
   "source": [
    "iris = load_iris().data\n",
    "from sklearn import preprocessing\n",
    "scaled_iris = preprocessing.scale(iris) # z-score\n",
    "scaled_iris.mean(axis=0) # 均值为0"
   ]
  },
  {
   "cell_type": "code",
   "execution_count": 13,
   "metadata": {},
   "outputs": [
    {
     "data": {
      "text/plain": [
       "array([1., 1., 1., 1.])"
      ]
     },
     "execution_count": 13,
     "metadata": {},
     "output_type": "execute_result"
    }
   ],
   "source": [
    "scaled_iris.std(axis=0) # 方差为1"
   ]
  },
  {
   "cell_type": "markdown",
   "metadata": {},
   "source": [
    "对数据进行Normalization处理:"
   ]
  },
  {
   "cell_type": "code",
   "execution_count": 14,
   "metadata": {},
   "outputs": [
    {
     "data": {
      "text/plain": [
       "array([[0.80377277, 0.55160877, 0.22064351, 0.0315205 ],\n",
       "       [0.82813287, 0.50702013, 0.23660939, 0.03380134],\n",
       "       [0.80533308, 0.54831188, 0.2227517 , 0.03426949],\n",
       "       [0.80003025, 0.53915082, 0.26087943, 0.03478392],\n",
       "       [0.790965  , 0.5694948 , 0.2214702 , 0.0316386 ]])"
      ]
     },
     "execution_count": 14,
     "metadata": {},
     "output_type": "execute_result"
    }
   ],
   "source": [
    "normalized_iris = preprocessing.normalize(iris)\n",
    "normalized_iris[:5]"
   ]
  },
  {
   "cell_type": "markdown",
   "metadata": {},
   "source": [
    "> 如何查看 sklearn.svm.SVC 训练结果？"
   ]
  },
  {
   "cell_type": "markdown",
   "metadata": {},
   "source": [
    "当使用线性核时可以使用coef_方法和intercept_方法查看权重和偏移值:"
   ]
  },
  {
   "cell_type": "code",
   "execution_count": 15,
   "metadata": {},
   "outputs": [
    {
     "data": {
      "text/plain": [
       "SVC(C=1.0, cache_size=200, class_weight=None, coef0=0.0,\n",
       "  decision_function_shape='ovr', degree=3, gamma='auto', kernel='linear',\n",
       "  max_iter=-1, probability=False, random_state=None, shrinking=True,\n",
       "  tol=0.001, verbose=False)"
      ]
     },
     "execution_count": 15,
     "metadata": {},
     "output_type": "execute_result"
    }
   ],
   "source": [
    "from sklearn.svm import SVC\n",
    "import numpy as np\n",
    "svm=SVC(kernel='linear')\n",
    "svm.fit(X_train, y_train)"
   ]
  },
  {
   "cell_type": "code",
   "execution_count": 16,
   "metadata": {},
   "outputs": [
    {
     "data": {
      "text/plain": [
       "array([[-0.81501272,  1.41120738, -2.17341427, -1.8491395 ],\n",
       "       [-0.76230215,  0.5291881 , -1.56010901, -1.38218232],\n",
       "       [-0.72336481,  0.49372049, -2.65985692, -3.47089235]])"
      ]
     },
     "execution_count": 16,
     "metadata": {},
     "output_type": "execute_result"
    }
   ],
   "source": [
    "svm.coef_"
   ]
  },
  {
   "cell_type": "code",
   "execution_count": 17,
   "metadata": {},
   "outputs": [
    {
     "data": {
      "text/plain": [
       "array([0.77263683, 1.1708772 , 4.29529373])"
      ]
     },
     "execution_count": 17,
     "metadata": {},
     "output_type": "execute_result"
    }
   ],
   "source": [
    "svm.intercept_"
   ]
  },
  {
   "cell_type": "markdown",
   "metadata": {},
   "source": [
    "当不是使用共线性核时可以使用support_vectors_方法查看支持向量的坐标:"
   ]
  },
  {
   "cell_type": "code",
   "execution_count": 24,
   "metadata": {},
   "outputs": [
    {
     "data": {
      "text/plain": [
       "array([[0.38888889, 1.        , 0.08474576, 0.125     ],\n",
       "       [0.02777778, 0.375     , 0.06779661, 0.04166667],\n",
       "       [0.19444444, 0.58333333, 0.10169492, 0.125     ],\n",
       "       [0.08333333, 0.45833333, 0.08474576, 0.04166667],\n",
       "       [0.22222222, 0.70833333, 0.08474576, 0.125     ]])"
      ]
     },
     "execution_count": 24,
     "metadata": {},
     "output_type": "execute_result"
    }
   ],
   "source": [
    "from sklearn.svm import SVC\n",
    "import numpy as np\n",
    "svm=SVC(kernel='rbf')\n",
    "svm.fit(X_train, y_train)\n",
    "svm.support_vectors_[:5]"
   ]
  },
  {
   "cell_type": "markdown",
   "metadata": {},
   "source": [
    "> 利用 SVC 对邮件数据集(训练集 horseColicTrainig.txt，测试集 horseColicTest.txt)\n",
    "进行分类， 并评估预测结果。"
   ]
  },
  {
   "cell_type": "markdown",
   "metadata": {},
   "source": [
    "利用GridSearchCV()方法选择最优参数:"
   ]
  },
  {
   "cell_type": "code",
   "execution_count": 18,
   "metadata": {
    "scrolled": false
   },
   "outputs": [
    {
     "name": "stdout",
     "output_type": "stream",
     "text": [
      "Best parameters: \n",
      "{'C': 10, 'decision_function_shape': 'ovo', 'gamma': 0.0001, 'kernel': 'rbf', 'probability': True}\n"
     ]
    }
   ],
   "source": [
    "frTrain = open('horseColicTraining.txt')\n",
    "frTest = open('horseColicTest.txt')\n",
    "trainingSet = []; trainingLabels = []\n",
    "for line in frTrain.readlines():\n",
    "    currLine = line.strip().split('\\t')\n",
    "    lineArr =[]\n",
    "    for i in range(21):\n",
    "        lineArr.append(float(currLine[i]))\n",
    "    trainingSet.append(lineArr)\n",
    "    trainingLabels.append(float(currLine[21]))\n",
    "tuned_parameters = [{'kernel': ['rbf'], 'gamma': ['auto', 1e-4, 1e-3],\n",
    "'C': [1, 10, 100, 1000], 'probability':[True, False], 'decision_function_shape': ['ovo', 'ovr']}]\n",
    "svm=SVC()\n",
    "clf=GridSearchCV(svm, tuned_parameters)\n",
    "clf.fit(trainingSet, trainingLabels)\n",
    "#输出最优参数\n",
    "print(\"Best parameters: \")\n",
    "print(clf.best_params_)"
   ]
  },
  {
   "cell_type": "markdown",
   "metadata": {},
   "source": [
    "训练并计算准确率:"
   ]
  },
  {
   "cell_type": "code",
   "execution_count": 19,
   "metadata": {},
   "outputs": [
    {
     "data": {
      "text/plain": [
       "77.61194029850746"
      ]
     },
     "execution_count": 19,
     "metadata": {},
     "output_type": "execute_result"
    }
   ],
   "source": [
    "svm = SVC(C=10,gamma=0.0001,kernel='rbf', probability=True,decision_function_shape='ovo')\n",
    "svm.fit(trainingSet, trainingLabels)\n",
    "frTest = open('horseColicTest.txt')\n",
    "testSet = []; testLabels = []\n",
    "for line in frTest.readlines():\n",
    "    currLine = line.strip().split('\\t')\n",
    "    lineArr =[]\n",
    "    for i in range(21):\n",
    "        lineArr.append(float(currLine[i]))\n",
    "    testSet.append(lineArr)\n",
    "    testLabels.append(float(currLine[21]))\n",
    "predict_labels = svm.predict(testSet)\n",
    "testLabels = np.array(testLabels)\n",
    "accuracy = np.mean(predict_labels==testLabels)*100\n",
    "accuracy"
   ]
  },
  {
   "cell_type": "markdown",
   "metadata": {},
   "source": [
    "计算F1-score:"
   ]
  },
  {
   "cell_type": "code",
   "execution_count": 20,
   "metadata": {},
   "outputs": [
    {
     "data": {
      "text/plain": [
       "array([0.61538462, 0.84210526])"
      ]
     },
     "execution_count": 20,
     "metadata": {},
     "output_type": "execute_result"
    }
   ],
   "source": [
    "from sklearn import metrics\n",
    "metrics.f1_score(testLabels, predict_labels, average=None) "
   ]
  },
  {
   "cell_type": "markdown",
   "metadata": {},
   "source": [
    "绘制混淆矩阵:"
   ]
  },
  {
   "cell_type": "code",
   "execution_count": 21,
   "metadata": {},
   "outputs": [],
   "source": [
    "from sklearn.metrics import confusion_matrix\n",
    "cm = confusion_matrix(testLabels, predict_labels)"
   ]
  },
  {
   "cell_type": "code",
   "execution_count": 22,
   "metadata": {},
   "outputs": [
    {
     "data": {
      "image/png": "[encoded data removed]",
      "text/plain": [
       "<Figure size 288x288 with 2 Axes>"
      ]
     },
     "metadata": {},
     "output_type": "display_data"
    }
   ],
   "source": [
    "import matplotlib.pyplot as plt\n",
    "import seaborn as sns\n",
    "sns.set_style('white')\n",
    "plt.matshow(cm,cmap=plt.cm.Greens)\n",
    "plt.colorbar()\n",
    "for x in range(len(cm)):\n",
    "    for y in range(len(cm)):\n",
    "        plt.annotate(cm[x,y],xy=(x,y),horizontalalignment='center',verticalalignment='center')\n",
    "plt.ylabel('True label')\n",
    "plt.xlabel('Predicted label')\n",
    "plt.show()"
   ]
  }
 ],
 "metadata": {
  "kernelspec": {
   "display_name": "Python 3",
   "language": "python",
   "name": "python3"
  },
  "language_info": {
   "codemirror_mode": {
    "name": "ipython",
    "version": 3
   },
   "file_extension": ".py",
   "mimetype": "text/x-python",
   "name": "python",
   "nbconvert_exporter": "python",
   "pygments_lexer": "ipython3",
   "version": "3.6.6"
  }
 },
 "nbformat": 4,
 "nbformat_minor": 2
}
