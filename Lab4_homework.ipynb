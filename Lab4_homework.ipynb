{
 "cells": [
  {
   "cell_type": "markdown",
   "metadata": {},
   "source": [
    "# lab4实验报告"
   ]
  },
  {
   "cell_type": "markdown",
   "metadata": {},
   "source": [
    "姓名: 李广泓 学号:16369031 学院: 资讯管理学院 专业:信息管理与信息系统"
   ]
  },
  {
   "cell_type": "markdown",
   "metadata": {},
   "source": [
    "## 实验目的"
   ]
  },
  {
   "cell_type": "markdown",
   "metadata": {},
   "source": [
    "利用Python实现Apriori算法的应用."
   ]
  },
  {
   "cell_type": "markdown",
   "metadata": {},
   "source": [
    "## 实验环境"
   ]
  },
  {
   "cell_type": "markdown",
   "metadata": {},
   "source": [
    "* windows 10 64位\n",
    "* anaconda 3\n",
    "* jupyter notebook"
   ]
  },
  {
   "cell_type": "markdown",
   "metadata": {},
   "source": [
    "## 实验步骤"
   ]
  },
  {
   "cell_type": "markdown",
   "metadata": {},
   "source": [
    "### 利用apriori算法挖掘频繁集 "
   ]
  },
  {
   "cell_type": "code",
   "execution_count": 1,
   "metadata": {},
   "outputs": [],
   "source": [
    "# 导入包\n",
    "import apriori"
   ]
  },
  {
   "cell_type": "code",
   "execution_count": 2,
   "metadata": {},
   "outputs": [
    {
     "data": {
      "text/plain": [
       "[[1, 2, 3, 4, 6], [2, 3, 4, 5, 6], [1, 2, 3, 5, 6], [1, 2, 4, 5, 6]]"
      ]
     },
     "execution_count": 2,
     "metadata": {},
     "output_type": "execute_result"
    }
   ],
   "source": [
    "dataSet = apriori.loadDataSet()\n",
    "dataSet"
   ]
  },
  {
   "cell_type": "code",
   "execution_count": 3,
   "metadata": {},
   "outputs": [],
   "source": [
    "C1 = apriori.createC1(dataSet)"
   ]
  },
  {
   "cell_type": "code",
   "execution_count": 4,
   "metadata": {},
   "outputs": [
    {
     "name": "stdout",
     "output_type": "stream",
     "text": [
      "[frozenset({1}), frozenset({2}), frozenset({3}), frozenset({4}), frozenset({5}), frozenset({6})]\n"
     ]
    }
   ],
   "source": [
    "print(C1)"
   ]
  },
  {
   "cell_type": "code",
   "execution_count": 5,
   "metadata": {},
   "outputs": [],
   "source": [
    "D = list(map(set, dataSet))"
   ]
  },
  {
   "cell_type": "code",
   "execution_count": 6,
   "metadata": {},
   "outputs": [
    {
     "name": "stdout",
     "output_type": "stream",
     "text": [
      "[{1, 2, 3, 4, 6}, {2, 3, 4, 5, 6}, {1, 2, 3, 5, 6}, {1, 2, 4, 5, 6}]\n"
     ]
    }
   ],
   "source": [
    "print(D)"
   ]
  },
  {
   "cell_type": "code",
   "execution_count": 7,
   "metadata": {},
   "outputs": [],
   "source": [
    "L1, supportData0 = apriori.scanD(D, C1, 0.5)"
   ]
  },
  {
   "cell_type": "code",
   "execution_count": 8,
   "metadata": {},
   "outputs": [
    {
     "name": "stdout",
     "output_type": "stream",
     "text": [
      "[frozenset({5}), frozenset({6}), frozenset({4}), frozenset({3}), frozenset({2}), frozenset({1})]\n"
     ]
    }
   ],
   "source": [
    "print(L1)"
   ]
  },
  {
   "cell_type": "code",
   "execution_count": 9,
   "metadata": {},
   "outputs": [],
   "source": [
    "L, supportData = apriori.apriori(dataSet)"
   ]
  },
  {
   "cell_type": "code",
   "execution_count": 10,
   "metadata": {},
   "outputs": [
    {
     "data": {
      "text/plain": [
       "[frozenset({1, 5}),\n",
       " frozenset({2, 5}),\n",
       " frozenset({3, 5}),\n",
       " frozenset({4, 5}),\n",
       " frozenset({5, 6}),\n",
       " frozenset({1, 2}),\n",
       " frozenset({1, 3}),\n",
       " frozenset({2, 3}),\n",
       " frozenset({1, 4}),\n",
       " frozenset({2, 4}),\n",
       " frozenset({3, 4}),\n",
       " frozenset({1, 6}),\n",
       " frozenset({2, 6}),\n",
       " frozenset({3, 6}),\n",
       " frozenset({4, 6})]"
      ]
     },
     "execution_count": 10,
     "metadata": {},
     "output_type": "execute_result"
    }
   ],
   "source": [
    "L[1]"
   ]
  },
  {
   "cell_type": "code",
   "execution_count": 11,
   "metadata": {},
   "outputs": [
    {
     "data": {
      "text/plain": [
       "{frozenset({1}): 0.75,\n",
       " frozenset({2}): 1.0,\n",
       " frozenset({3}): 0.75,\n",
       " frozenset({4}): 0.75,\n",
       " frozenset({6}): 1.0,\n",
       " frozenset({5}): 0.75,\n",
       " frozenset({4, 6}): 0.75,\n",
       " frozenset({3, 6}): 0.75,\n",
       " frozenset({2, 6}): 1.0,\n",
       " frozenset({1, 6}): 0.75,\n",
       " frozenset({3, 4}): 0.5,\n",
       " frozenset({2, 4}): 0.75,\n",
       " frozenset({1, 4}): 0.5,\n",
       " frozenset({2, 3}): 0.75,\n",
       " frozenset({1, 3}): 0.5,\n",
       " frozenset({1, 2}): 0.75,\n",
       " frozenset({5, 6}): 0.75,\n",
       " frozenset({4, 5}): 0.5,\n",
       " frozenset({3, 5}): 0.5,\n",
       " frozenset({2, 5}): 0.75,\n",
       " frozenset({1, 5}): 0.5,\n",
       " frozenset({1, 2, 3}): 0.5,\n",
       " frozenset({1, 2, 4}): 0.5,\n",
       " frozenset({1, 2, 6}): 0.75,\n",
       " frozenset({1, 3, 4}): 0.25,\n",
       " frozenset({1, 3, 6}): 0.5,\n",
       " frozenset({2, 3, 4}): 0.5,\n",
       " frozenset({2, 3, 6}): 0.75,\n",
       " frozenset({1, 4, 6}): 0.5,\n",
       " frozenset({2, 4, 6}): 0.75,\n",
       " frozenset({3, 4, 6}): 0.5,\n",
       " frozenset({2, 3, 5}): 0.5,\n",
       " frozenset({2, 4, 5}): 0.5,\n",
       " frozenset({2, 5, 6}): 0.75,\n",
       " frozenset({3, 4, 5}): 0.25,\n",
       " frozenset({3, 5, 6}): 0.5,\n",
       " frozenset({4, 5, 6}): 0.5,\n",
       " frozenset({1, 2, 5}): 0.5,\n",
       " frozenset({1, 3, 5}): 0.25,\n",
       " frozenset({1, 5, 6}): 0.5,\n",
       " frozenset({1, 4, 5}): 0.25,\n",
       " frozenset({2, 3, 4, 6}): 0.5,\n",
       " frozenset({1, 2, 4, 6}): 0.5,\n",
       " frozenset({1, 2, 3, 6}): 0.5,\n",
       " frozenset({1, 2, 3, 4}): 0.25,\n",
       " frozenset({2, 4, 5, 6}): 0.5,\n",
       " frozenset({2, 3, 5, 6}): 0.5,\n",
       " frozenset({2, 3, 4, 5}): 0.25,\n",
       " frozenset({1, 2, 5, 6}): 0.5,\n",
       " frozenset({1, 2, 3, 5}): 0.25,\n",
       " frozenset({1, 2, 4, 5}): 0.25}"
      ]
     },
     "execution_count": 11,
     "metadata": {},
     "output_type": "execute_result"
    }
   ],
   "source": [
    "supportData"
   ]
  },
  {
   "cell_type": "markdown",
   "metadata": {},
   "source": [
    "### 从频繁项集中挖掘关联规则"
   ]
  },
  {
   "cell_type": "code",
   "execution_count": 12,
   "metadata": {},
   "outputs": [
    {
     "name": "stdout",
     "output_type": "stream",
     "text": [
      "frozenset({5}) --> frozenset({2}) conf: 1.0\n",
      "frozenset({2}) --> frozenset({5}) conf: 0.75\n",
      "frozenset({6}) --> frozenset({5}) conf: 0.75\n",
      "frozenset({5}) --> frozenset({6}) conf: 1.0\n",
      "frozenset({2}) --> frozenset({1}) conf: 0.75\n",
      "frozenset({1}) --> frozenset({2}) conf: 1.0\n",
      "frozenset({3}) --> frozenset({2}) conf: 1.0\n",
      "frozenset({2}) --> frozenset({3}) conf: 0.75\n",
      "frozenset({4}) --> frozenset({2}) conf: 1.0\n",
      "frozenset({2}) --> frozenset({4}) conf: 0.75\n",
      "frozenset({6}) --> frozenset({1}) conf: 0.75\n",
      "frozenset({1}) --> frozenset({6}) conf: 1.0\n",
      "frozenset({6}) --> frozenset({2}) conf: 1.0\n",
      "frozenset({2}) --> frozenset({6}) conf: 1.0\n",
      "frozenset({6}) --> frozenset({3}) conf: 0.75\n",
      "frozenset({3}) --> frozenset({6}) conf: 1.0\n",
      "frozenset({6}) --> frozenset({4}) conf: 0.75\n",
      "frozenset({4}) --> frozenset({6}) conf: 1.0\n",
      "frozenset({1, 5}) --> frozenset({6}) conf: 1.0\n",
      "frozenset({1, 5}) --> frozenset({2}) conf: 1.0\n",
      "frozenset({4, 5}) --> frozenset({6}) conf: 1.0\n",
      "frozenset({3, 5}) --> frozenset({6}) conf: 1.0\n",
      "frozenset({5, 6}) --> frozenset({2}) conf: 1.0\n",
      "frozenset({2, 6}) --> frozenset({5}) conf: 0.75\n",
      "frozenset({2, 5}) --> frozenset({6}) conf: 1.0\n",
      "frozenset({6}) --> frozenset({2, 5}) conf: 0.75\n",
      "frozenset({5}) --> frozenset({2, 6}) conf: 1.0\n",
      "frozenset({2}) --> frozenset({5, 6}) conf: 0.75\n",
      "frozenset({4, 5}) --> frozenset({2}) conf: 1.0\n",
      "frozenset({3, 5}) --> frozenset({2}) conf: 1.0\n",
      "frozenset({3, 4}) --> frozenset({6}) conf: 1.0\n",
      "frozenset({4, 6}) --> frozenset({2}) conf: 1.0\n",
      "frozenset({2, 6}) --> frozenset({4}) conf: 0.75\n",
      "frozenset({2, 4}) --> frozenset({6}) conf: 1.0\n",
      "frozenset({6}) --> frozenset({2, 4}) conf: 0.75\n",
      "frozenset({4}) --> frozenset({2, 6}) conf: 1.0\n",
      "frozenset({2}) --> frozenset({4, 6}) conf: 0.75\n",
      "frozenset({1, 4}) --> frozenset({6}) conf: 1.0\n",
      "frozenset({3, 6}) --> frozenset({2}) conf: 1.0\n",
      "frozenset({2, 6}) --> frozenset({3}) conf: 0.75\n",
      "frozenset({2, 3}) --> frozenset({6}) conf: 1.0\n",
      "frozenset({6}) --> frozenset({2, 3}) conf: 0.75\n",
      "frozenset({3}) --> frozenset({2, 6}) conf: 1.0\n",
      "frozenset({2}) --> frozenset({3, 6}) conf: 0.75\n",
      "frozenset({3, 4}) --> frozenset({2}) conf: 1.0\n",
      "frozenset({1, 3}) --> frozenset({6}) conf: 1.0\n",
      "frozenset({2, 6}) --> frozenset({1}) conf: 0.75\n",
      "frozenset({1, 6}) --> frozenset({2}) conf: 1.0\n",
      "frozenset({1, 2}) --> frozenset({6}) conf: 1.0\n",
      "frozenset({6}) --> frozenset({1, 2}) conf: 0.75\n",
      "frozenset({2}) --> frozenset({1, 6}) conf: 0.75\n",
      "frozenset({1}) --> frozenset({2, 6}) conf: 1.0\n",
      "frozenset({1, 4}) --> frozenset({2}) conf: 1.0\n",
      "frozenset({1, 3}) --> frozenset({2}) conf: 1.0\n",
      "frozenset({1, 5, 6}) --> frozenset({2}) conf: 1.0\n",
      "frozenset({1, 2, 5}) --> frozenset({6}) conf: 1.0\n",
      "frozenset({1, 5}) --> frozenset({2, 6}) conf: 1.0\n",
      "frozenset({3, 5, 6}) --> frozenset({2}) conf: 1.0\n",
      "frozenset({2, 3, 5}) --> frozenset({6}) conf: 1.0\n",
      "frozenset({3, 5}) --> frozenset({2, 6}) conf: 1.0\n",
      "frozenset({4, 5, 6}) --> frozenset({2}) conf: 1.0\n",
      "frozenset({2, 4, 5}) --> frozenset({6}) conf: 1.0\n",
      "frozenset({4, 5}) --> frozenset({2, 6}) conf: 1.0\n",
      "frozenset({1, 3, 6}) --> frozenset({2}) conf: 1.0\n",
      "frozenset({1, 2, 3}) --> frozenset({6}) conf: 1.0\n",
      "frozenset({1, 3}) --> frozenset({2, 6}) conf: 1.0\n",
      "frozenset({1, 4, 6}) --> frozenset({2}) conf: 1.0\n",
      "frozenset({1, 2, 4}) --> frozenset({6}) conf: 1.0\n",
      "frozenset({1, 4}) --> frozenset({2, 6}) conf: 1.0\n",
      "frozenset({3, 4, 6}) --> frozenset({2}) conf: 1.0\n",
      "frozenset({2, 3, 4}) --> frozenset({6}) conf: 1.0\n",
      "frozenset({3, 4}) --> frozenset({2, 6}) conf: 1.0\n"
     ]
    }
   ],
   "source": [
    "rules = apriori.generateRules(L, supportData, minConf=0.7)"
   ]
  },
  {
   "cell_type": "code",
   "execution_count": 13,
   "metadata": {
    "scrolled": false
   },
   "outputs": [],
   "source": [
    "# rules = apriori.generateRules(L, supportData, minConf=0.5)"
   ]
  },
  {
   "cell_type": "markdown",
   "metadata": {},
   "source": [
    "### 利用apriori算法发现毒蘑菇的相似特征"
   ]
  },
  {
   "cell_type": "code",
   "execution_count": 5,
   "metadata": {},
   "outputs": [],
   "source": [
    "parsedDat = [line.split() for line in open('mushroom.dat').readlines()]"
   ]
  },
  {
   "cell_type": "code",
   "execution_count": 15,
   "metadata": {},
   "outputs": [
    {
     "data": {
      "text/plain": [
       "['2',\n",
       " '3',\n",
       " '9',\n",
       " '14',\n",
       " '23',\n",
       " '26',\n",
       " '34',\n",
       " '36',\n",
       " '39',\n",
       " '40',\n",
       " '52',\n",
       " '55',\n",
       " '59',\n",
       " '63',\n",
       " '67',\n",
       " '76',\n",
       " '85',\n",
       " '86',\n",
       " '90',\n",
       " '93',\n",
       " '99',\n",
       " '108',\n",
       " '114']"
      ]
     },
     "execution_count": 15,
     "metadata": {},
     "output_type": "execute_result"
    }
   ],
   "source": [
    "parsedDat[1]"
   ]
  },
  {
   "cell_type": "code",
   "execution_count": 16,
   "metadata": {},
   "outputs": [],
   "source": [
    "L, supportData = apriori.apriori(parsedDat, 0.4)"
   ]
  },
  {
   "cell_type": "code",
   "execution_count": 17,
   "metadata": {},
   "outputs": [
    {
     "data": {
      "text/plain": [
       "[frozenset({'1', '24', '34', '85'}), frozenset({'1', '24', '34', '86'})]"
      ]
     },
     "execution_count": 17,
     "metadata": {},
     "output_type": "execute_result"
    }
   ],
   "source": [
    "L[3][0:2]"
   ]
  },
  {
   "cell_type": "code",
   "execution_count": 18,
   "metadata": {},
   "outputs": [
    {
     "name": "stdout",
     "output_type": "stream",
     "text": [
      "frozenset({'2', '28'})\n",
      "frozenset({'2', '34'})\n",
      "frozenset({'59', '2'})\n",
      "frozenset({'2', '63'})\n",
      "frozenset({'2', '85'})\n",
      "frozenset({'2', '86'})\n",
      "frozenset({'2', '90'})\n",
      "frozenset({'39', '2'})\n"
     ]
    }
   ],
   "source": [
    "for item in L[1]:\n",
    "    if item.intersection('2'):\n",
    "        print(item)"
   ]
  },
  {
   "cell_type": "code",
   "execution_count": 19,
   "metadata": {},
   "outputs": [
    {
     "name": "stdout",
     "output_type": "stream",
     "text": [
      "frozenset({'2', '28', '85'})\n",
      "frozenset({'39', '90', '2'})\n",
      "frozenset({'39', '2', '86'})\n",
      "frozenset({'39', '2', '85'})\n",
      "frozenset({'39', '2', '34'})\n",
      "frozenset({'2', '90', '86'})\n",
      "frozenset({'2', '90', '85'})\n",
      "frozenset({'2', '86', '85'})\n",
      "frozenset({'2', '85', '63'})\n",
      "frozenset({'59', '2', '90'})\n",
      "frozenset({'59', '2', '86'})\n",
      "frozenset({'59', '2', '85'})\n",
      "frozenset({'59', '2', '34'})\n",
      "frozenset({'59', '2', '39'})\n",
      "frozenset({'2', '90', '34'})\n",
      "frozenset({'2', '34', '86'})\n",
      "frozenset({'2', '34', '85'})\n"
     ]
    }
   ],
   "source": [
    "for item in L[2]:\n",
    "    if item.intersection('2'):\n",
    "        print(item)"
   ]
  },
  {
   "cell_type": "code",
   "execution_count": 20,
   "metadata": {
    "scrolled": false
   },
   "outputs": [],
   "source": [
    "# rules = apriori.generateRules(L, supportData, minConf=1.0)"
   ]
  },
  {
   "cell_type": "markdown",
   "metadata": {},
   "source": [
    "## 实验感想\n",
    "在本次实验中,我第一次使用了apriori算法进行实验,但是在实验进行的途中出现了异常的除0错误,因此我就去阅读了源文件的代码.在排除错误的同时我也对apriori算法的过程加深了理解,对应每行代码上我都加上了注释.最后我发现出除0错误是因为在python3中,map函数不会像python2中一样返回一个列表,而是会返回一个一次性的迭代器,因此在进行除数操作的时候由于迭代器只能使用一次的原因会显示为除0错误.解决问题很简单,只要显式的将map结果转为列表即可."
   ]
  },
  {
   "cell_type": "markdown",
   "metadata": {},
   "source": [
    "## 操作习题"
   ]
  },
  {
   "cell_type": "markdown",
   "metadata": {},
   "source": [
    "> 挖掘毒蘑菇的相似特征是,给定不同支持度,查看结果"
   ]
  },
  {
   "cell_type": "code",
   "execution_count": 21,
   "metadata": {},
   "outputs": [
    {
     "data": {
      "text/plain": [
       "[frozenset({'34', '36', '85', '86'}), frozenset({'34', '85', '86', '90'})]"
      ]
     },
     "execution_count": 21,
     "metadata": {},
     "output_type": "execute_result"
    }
   ],
   "source": [
    "L, supportData = apriori.apriori(parsedDat, 0.8)\n",
    "L[3]"
   ]
  },
  {
   "cell_type": "markdown",
   "metadata": {},
   "source": [
    "> 挖掘毒蘑菇的相似特征时,给定不同置信度,查看结果"
   ]
  },
  {
   "cell_type": "code",
   "execution_count": 22,
   "metadata": {},
   "outputs": [
    {
     "name": "stdout",
     "output_type": "stream",
     "text": [
      "frozenset({'34'}) --> frozenset({'85'}) conf: 1.0\n",
      "frozenset({'36'}) --> frozenset({'85'}) conf: 1.0\n",
      "frozenset({'86'}) --> frozenset({'85'}) conf: 1.0\n",
      "frozenset({'90'}) --> frozenset({'85'}) conf: 1.0\n",
      "frozenset({'90', '86'}) --> frozenset({'85'}) conf: 1.0\n",
      "frozenset({'90', '86'}) --> frozenset({'34'}) conf: 1.0\n",
      "frozenset({'36', '86'}) --> frozenset({'85'}) conf: 1.0\n",
      "frozenset({'34', '90'}) --> frozenset({'85'}) conf: 1.0\n",
      "frozenset({'34', '86'}) --> frozenset({'85'}) conf: 1.0\n",
      "frozenset({'34', '36'}) --> frozenset({'86'}) conf: 1.0\n",
      "frozenset({'34', '36'}) --> frozenset({'85'}) conf: 1.0\n",
      "frozenset({'34', '36', '85'}) --> frozenset({'86'}) conf: 1.0\n",
      "frozenset({'34', '36', '86'}) --> frozenset({'85'}) conf: 1.0\n",
      "frozenset({'34', '36'}) --> frozenset({'86', '85'}) conf: 1.0\n",
      "frozenset({'90', '86', '85'}) --> frozenset({'34'}) conf: 1.0\n",
      "frozenset({'34', '90', '86'}) --> frozenset({'85'}) conf: 1.0\n",
      "frozenset({'90', '86'}) --> frozenset({'34', '85'}) conf: 1.0\n"
     ]
    }
   ],
   "source": [
    "rules = apriori.generateRules(L, supportData, minConf=1.0)"
   ]
  },
  {
   "cell_type": "markdown",
   "metadata": {},
   "source": [
    "> 实例操作说明map(), issubset(), set(), forzenset()的功能和用法"
   ]
  },
  {
   "cell_type": "code",
   "execution_count": 23,
   "metadata": {},
   "outputs": [
    {
     "data": {
      "text/plain": [
       "<map at 0x21b27e1c0b8>"
      ]
     },
     "execution_count": 23,
     "metadata": {},
     "output_type": "execute_result"
    }
   ],
   "source": [
    "# map\n",
    "def f(x):\n",
    "    return x * x\n",
    "map(f, [1, 2, 3, 4, 5])"
   ]
  },
  {
   "cell_type": "code",
   "execution_count": 24,
   "metadata": {},
   "outputs": [
    {
     "data": {
      "text/plain": [
       "[1, 4, 9, 16, 25]"
      ]
     },
     "execution_count": 24,
     "metadata": {},
     "output_type": "execute_result"
    }
   ],
   "source": [
    "# convert map to list\n",
    "list(map(f, [1, 2, 3, 4, 5]))"
   ]
  },
  {
   "cell_type": "code",
   "execution_count": 25,
   "metadata": {},
   "outputs": [
    {
     "data": {
      "text/plain": [
       "True"
      ]
     },
     "execution_count": 25,
     "metadata": {},
     "output_type": "execute_result"
    }
   ],
   "source": [
    "# issubset and set\n",
    "set1 = set([1, 2, 3, 4, 5]) # convert others to set\n",
    "set2 = set([1, 2, 3])\n",
    "set2.issubset(set1) # test whether every element is set2 is in set1"
   ]
  },
  {
   "cell_type": "code",
   "execution_count": 26,
   "metadata": {},
   "outputs": [
    {
     "data": {
      "text/plain": [
       "frozenset({1, 2, 3, 4})"
      ]
     },
     "execution_count": 26,
     "metadata": {},
     "output_type": "execute_result"
    }
   ],
   "source": [
    "# frozenset\n",
    "a = frozenset([1, 2, 3, 4])\n",
    "a"
   ]
  },
  {
   "cell_type": "code",
   "execution_count": 27,
   "metadata": {},
   "outputs": [
    {
     "data": {
      "text/plain": [
       "[frozenset({1, 2}), frozenset({2, 3}), frozenset({3, 4})]"
      ]
     },
     "execution_count": 27,
     "metadata": {},
     "output_type": "execute_result"
    }
   ],
   "source": [
    "# map and frozenset\n",
    "list(map(frozenset, [[1, 2], [2, 3], [3, 4]]))"
   ]
  },
  {
   "cell_type": "code",
   "execution_count": 7,
   "metadata": {},
   "outputs": [
    {
     "ename": "AttributeError",
     "evalue": "'treeNode' object has no attribute 'disp'",
     "output_type": "error",
     "traceback": [
      "\u001b[1;31m---------------------------------------------------------------------------\u001b[0m",
      "\u001b[1;31mAttributeError\u001b[0m                            Traceback (most recent call last)",
      "\u001b[1;32m<ipython-input-7-add009f7b524>\u001b[0m in \u001b[0;36m<module>\u001b[1;34m()\u001b[0m\n\u001b[0;32m      3\u001b[0m \u001b[0mmyFPTree\u001b[0m\u001b[1;33m,\u001b[0m \u001b[0mmyheader\u001b[0m \u001b[1;33m=\u001b[0m \u001b[0mFPTree\u001b[0m\u001b[1;33m.\u001b[0m\u001b[0mcreateTree\u001b[0m\u001b[1;33m(\u001b[0m\u001b[0mdictDat\u001b[0m\u001b[1;33m,\u001b[0m \u001b[1;36m3\u001b[0m\u001b[1;33m)\u001b[0m\u001b[1;33m\u001b[0m\u001b[0m\n\u001b[0;32m      4\u001b[0m \u001b[0mfre\u001b[0m \u001b[1;33m=\u001b[0m \u001b[1;33m[\u001b[0m\u001b[1;33m]\u001b[0m\u001b[1;33m\u001b[0m\u001b[0m\n\u001b[1;32m----> 5\u001b[1;33m \u001b[0mFPTree\u001b[0m\u001b[1;33m.\u001b[0m\u001b[0mmineTree\u001b[0m\u001b[1;33m(\u001b[0m\u001b[0mmyFPTree\u001b[0m\u001b[1;33m,\u001b[0m \u001b[0mmyheader\u001b[0m\u001b[1;33m,\u001b[0m \u001b[1;36m2\u001b[0m\u001b[1;33m,\u001b[0m \u001b[0mfreqItemList\u001b[0m\u001b[1;33m=\u001b[0m\u001b[0mfre\u001b[0m\u001b[1;33m)\u001b[0m\u001b[1;33m\u001b[0m\u001b[0m\n\u001b[0m\u001b[0;32m      6\u001b[0m \u001b[0mprint\u001b[0m\u001b[1;33m(\u001b[0m\u001b[0mfre\u001b[0m\u001b[1;33m)\u001b[0m\u001b[1;33m\u001b[0m\u001b[0m\n",
      "\u001b[1;32mD:\\jupyter_notebook\\bigdata_homework\\FPTree.py\u001b[0m in \u001b[0;36mmineTree\u001b[1;34m(inTree, headerTable, minSup, preFix, freqItemList)\u001b[0m\n\u001b[0;32m    128\u001b[0m         \u001b[1;32mif\u001b[0m \u001b[0mmyHead\u001b[0m \u001b[1;33m!=\u001b[0m \u001b[1;32mNone\u001b[0m\u001b[1;33m:\u001b[0m  \u001b[1;31m# 如果新树不为空\u001b[0m\u001b[1;33m\u001b[0m\u001b[0m\n\u001b[0;32m    129\u001b[0m             \u001b[1;31m# print('condPattBases: ', basePat, condPattBases)  # 输出条件模式基\u001b[0m\u001b[1;33m\u001b[0m\u001b[1;33m\u001b[0m\u001b[0m\n\u001b[1;32m--> 130\u001b[1;33m             \u001b[1;31m# print('*' * 30)\u001b[0m\u001b[1;33m\u001b[0m\u001b[1;33m\u001b[0m\u001b[0m\n\u001b[0m\u001b[0;32m    131\u001b[0m \u001b[1;33m\u001b[0m\u001b[0m\n\u001b[0;32m    132\u001b[0m             \u001b[0mmineTree\u001b[0m\u001b[1;33m(\u001b[0m\u001b[0mmyCondTree\u001b[0m\u001b[1;33m,\u001b[0m \u001b[0mmyHead\u001b[0m\u001b[1;33m,\u001b[0m \u001b[0mminSup\u001b[0m\u001b[1;33m,\u001b[0m \u001b[0mnewFreqSet\u001b[0m\u001b[1;33m,\u001b[0m \u001b[0mfreqItemList\u001b[0m\u001b[1;33m)\u001b[0m\u001b[1;33m\u001b[0m\u001b[0m\n",
      "\u001b[1;31mAttributeError\u001b[0m: 'treeNode' object has no attribute 'disp'"
     ]
    }
   ],
   "source": [
    "import FPTree\n",
    "dictDat = FPTree.createInitSet(parsedDat)\n",
    "myFPTree, myheader = FPTree.createTree(dictDat, 3)\n",
    "fre = []\n",
    "FPTree.mineTree(myFPTree, myheader, 2, freqItemList=fre)\n",
    "print(fre)"
   ]
  },
  {
   "cell_type": "code",
   "execution_count": null,
   "metadata": {},
   "outputs": [],
   "source": []
  }
 ],
 "metadata": {
  "kernelspec": {
   "display_name": "Python 3",
   "language": "python",
   "name": "python3"
  },
  "language_info": {
   "codemirror_mode": {
    "name": "ipython",
    "version": 3
   },
   "file_extension": ".py",
   "mimetype": "text/x-python",
   "name": "python",
   "nbconvert_exporter": "python",
   "pygments_lexer": "ipython3",
   "version": "3.6.6"
  }
 },
 "nbformat": 4,
 "nbformat_minor": 2
}
