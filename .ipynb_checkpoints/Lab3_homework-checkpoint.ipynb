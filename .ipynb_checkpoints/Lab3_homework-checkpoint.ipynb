{
 "cells": [
  {
   "cell_type": "markdown",
   "metadata": {},
   "source": [
    "# lab3 实验报告"
   ]
  },
  {
   "cell_type": "markdown",
   "metadata": {},
   "source": [
    "姓名:李广泓 学号:16369031 学院:资讯管理学院 专业: 信息管理与信息系统"
   ]
  },
  {
   "cell_type": "markdown",
   "metadata": {},
   "source": [
    "# 实验目的"
   ]
  },
  {
   "cell_type": "markdown",
   "metadata": {},
   "source": [
    "* 搭建python数据分析的开发平台,并进行数据分析的基本操作"
   ]
  },
  {
   "cell_type": "markdown",
   "metadata": {},
   "source": [
    "# 实验环境"
   ]
  },
  {
   "cell_type": "markdown",
   "metadata": {},
   "source": [
    "* windows 10 64位\n",
    "* anaconda\n",
    "* jupyter notebook"
   ]
  },
  {
   "cell_type": "markdown",
   "metadata": {},
   "source": [
    "# 实验步骤"
   ]
  },
  {
   "cell_type": "markdown",
   "metadata": {},
   "source": [
    "## 数据导入"
   ]
  },
  {
   "cell_type": "code",
   "execution_count": 1,
   "metadata": {
    "scrolled": true
   },
   "outputs": [],
   "source": [
    "import pandas as pd\n",
    "import scipy.stats as ss\n",
    "df = pd.read_csv('data.csv')"
   ]
  },
  {
   "cell_type": "markdown",
   "metadata": {},
   "source": [
    "## 格式转换"
   ]
  },
  {
   "cell_type": "code",
   "execution_count": 2,
   "metadata": {},
   "outputs": [
    {
     "data": {
      "text/html": [
       "<div>\n",
       "<style scoped>\n",
       "    .dataframe tbody tr th:only-of-type {\n",
       "        vertical-align: middle;\n",
       "    }\n",
       "\n",
       "    .dataframe tbody tr th {\n",
       "        vertical-align: top;\n",
       "    }\n",
       "\n",
       "    .dataframe thead th {\n",
       "        text-align: right;\n",
       "    }\n",
       "</style>\n",
       "<table border=\"1\" class=\"dataframe\">\n",
       "  <thead>\n",
       "    <tr style=\"text-align: right;\">\n",
       "      <th></th>\n",
       "      <th>Abra</th>\n",
       "      <th>Apayao</th>\n",
       "      <th>Benguet</th>\n",
       "      <th>Ifugao</th>\n",
       "      <th>Kalinga</th>\n",
       "    </tr>\n",
       "  </thead>\n",
       "  <tbody>\n",
       "    <tr>\n",
       "      <th>0</th>\n",
       "      <td>1243</td>\n",
       "      <td>2934</td>\n",
       "      <td>148</td>\n",
       "      <td>3300</td>\n",
       "      <td>10553</td>\n",
       "    </tr>\n",
       "    <tr>\n",
       "      <th>1</th>\n",
       "      <td>4158</td>\n",
       "      <td>9235</td>\n",
       "      <td>4287</td>\n",
       "      <td>8063</td>\n",
       "      <td>35257</td>\n",
       "    </tr>\n",
       "    <tr>\n",
       "      <th>2</th>\n",
       "      <td>1787</td>\n",
       "      <td>1922</td>\n",
       "      <td>1955</td>\n",
       "      <td>1074</td>\n",
       "      <td>4544</td>\n",
       "    </tr>\n",
       "    <tr>\n",
       "      <th>3</th>\n",
       "      <td>17152</td>\n",
       "      <td>14501</td>\n",
       "      <td>3536</td>\n",
       "      <td>19607</td>\n",
       "      <td>31687</td>\n",
       "    </tr>\n",
       "    <tr>\n",
       "      <th>4</th>\n",
       "      <td>1266</td>\n",
       "      <td>2385</td>\n",
       "      <td>2530</td>\n",
       "      <td>3315</td>\n",
       "      <td>8520</td>\n",
       "    </tr>\n",
       "  </tbody>\n",
       "</table>\n",
       "</div>"
      ],
      "text/plain": [
       "    Abra  Apayao  Benguet  Ifugao  Kalinga\n",
       "0   1243    2934      148    3300    10553\n",
       "1   4158    9235     4287    8063    35257\n",
       "2   1787    1922     1955    1074     4544\n",
       "3  17152   14501     3536   19607    31687\n",
       "4   1266    2385     2530    3315     8520"
      ]
     },
     "execution_count": 2,
     "metadata": {},
     "output_type": "execute_result"
    }
   ],
   "source": [
    "df.head() # data in first 5 lines"
   ]
  },
  {
   "cell_type": "code",
   "execution_count": 3,
   "metadata": {},
   "outputs": [
    {
     "data": {
      "text/html": [
       "<div>\n",
       "<style scoped>\n",
       "    .dataframe tbody tr th:only-of-type {\n",
       "        vertical-align: middle;\n",
       "    }\n",
       "\n",
       "    .dataframe tbody tr th {\n",
       "        vertical-align: top;\n",
       "    }\n",
       "\n",
       "    .dataframe thead th {\n",
       "        text-align: right;\n",
       "    }\n",
       "</style>\n",
       "<table border=\"1\" class=\"dataframe\">\n",
       "  <thead>\n",
       "    <tr style=\"text-align: right;\">\n",
       "      <th></th>\n",
       "      <th>Abra</th>\n",
       "      <th>Apayao</th>\n",
       "      <th>Benguet</th>\n",
       "      <th>Ifugao</th>\n",
       "      <th>Kalinga</th>\n",
       "    </tr>\n",
       "  </thead>\n",
       "  <tbody>\n",
       "    <tr>\n",
       "      <th>74</th>\n",
       "      <td>2505</td>\n",
       "      <td>20878</td>\n",
       "      <td>3519</td>\n",
       "      <td>19737</td>\n",
       "      <td>16513</td>\n",
       "    </tr>\n",
       "    <tr>\n",
       "      <th>75</th>\n",
       "      <td>60303</td>\n",
       "      <td>40065</td>\n",
       "      <td>7062</td>\n",
       "      <td>19422</td>\n",
       "      <td>61808</td>\n",
       "    </tr>\n",
       "    <tr>\n",
       "      <th>76</th>\n",
       "      <td>6311</td>\n",
       "      <td>6756</td>\n",
       "      <td>3561</td>\n",
       "      <td>15910</td>\n",
       "      <td>23349</td>\n",
       "    </tr>\n",
       "    <tr>\n",
       "      <th>77</th>\n",
       "      <td>13345</td>\n",
       "      <td>38902</td>\n",
       "      <td>2583</td>\n",
       "      <td>11096</td>\n",
       "      <td>68663</td>\n",
       "    </tr>\n",
       "    <tr>\n",
       "      <th>78</th>\n",
       "      <td>2623</td>\n",
       "      <td>18264</td>\n",
       "      <td>3745</td>\n",
       "      <td>16787</td>\n",
       "      <td>16900</td>\n",
       "    </tr>\n",
       "  </tbody>\n",
       "</table>\n",
       "</div>"
      ],
      "text/plain": [
       "     Abra  Apayao  Benguet  Ifugao  Kalinga\n",
       "74   2505   20878     3519   19737    16513\n",
       "75  60303   40065     7062   19422    61808\n",
       "76   6311    6756     3561   15910    23349\n",
       "77  13345   38902     2583   11096    68663\n",
       "78   2623   18264     3745   16787    16900"
      ]
     },
     "execution_count": 3,
     "metadata": {},
     "output_type": "execute_result"
    }
   ],
   "source": [
    "df.tail() # data in last 5 lines"
   ]
  },
  {
   "cell_type": "code",
   "execution_count": 4,
   "metadata": {},
   "outputs": [
    {
     "data": {
      "text/plain": [
       "Index(['Abra', 'Apayao', 'Benguet', 'Ifugao', 'Kalinga'], dtype='object')"
      ]
     },
     "execution_count": 4,
     "metadata": {},
     "output_type": "execute_result"
    }
   ],
   "source": [
    "df.columns # show column name"
   ]
  },
  {
   "cell_type": "code",
   "execution_count": 5,
   "metadata": {},
   "outputs": [
    {
     "data": {
      "text/plain": [
       "RangeIndex(start=0, stop=79, step=1)"
      ]
     },
     "execution_count": 5,
     "metadata": {},
     "output_type": "execute_result"
    }
   ],
   "source": [
    "df.index # show index or row name"
   ]
  },
  {
   "cell_type": "code",
   "execution_count": 6,
   "metadata": {},
   "outputs": [
    {
     "data": {
      "text/html": [
       "<div>\n",
       "<style scoped>\n",
       "    .dataframe tbody tr th:only-of-type {\n",
       "        vertical-align: middle;\n",
       "    }\n",
       "\n",
       "    .dataframe tbody tr th {\n",
       "        vertical-align: top;\n",
       "    }\n",
       "\n",
       "    .dataframe thead th {\n",
       "        text-align: right;\n",
       "    }\n",
       "</style>\n",
       "<table border=\"1\" class=\"dataframe\">\n",
       "  <thead>\n",
       "    <tr style=\"text-align: right;\">\n",
       "      <th></th>\n",
       "      <th>0</th>\n",
       "      <th>1</th>\n",
       "      <th>2</th>\n",
       "      <th>3</th>\n",
       "      <th>4</th>\n",
       "      <th>5</th>\n",
       "      <th>6</th>\n",
       "      <th>7</th>\n",
       "      <th>8</th>\n",
       "      <th>9</th>\n",
       "      <th>...</th>\n",
       "      <th>69</th>\n",
       "      <th>70</th>\n",
       "      <th>71</th>\n",
       "      <th>72</th>\n",
       "      <th>73</th>\n",
       "      <th>74</th>\n",
       "      <th>75</th>\n",
       "      <th>76</th>\n",
       "      <th>77</th>\n",
       "      <th>78</th>\n",
       "    </tr>\n",
       "  </thead>\n",
       "  <tbody>\n",
       "    <tr>\n",
       "      <th>Abra</th>\n",
       "      <td>1243</td>\n",
       "      <td>4158</td>\n",
       "      <td>1787</td>\n",
       "      <td>17152</td>\n",
       "      <td>1266</td>\n",
       "      <td>5576</td>\n",
       "      <td>927</td>\n",
       "      <td>21540</td>\n",
       "      <td>1039</td>\n",
       "      <td>5424</td>\n",
       "      <td>...</td>\n",
       "      <td>12763</td>\n",
       "      <td>2470</td>\n",
       "      <td>59094</td>\n",
       "      <td>6209</td>\n",
       "      <td>13316</td>\n",
       "      <td>2505</td>\n",
       "      <td>60303</td>\n",
       "      <td>6311</td>\n",
       "      <td>13345</td>\n",
       "      <td>2623</td>\n",
       "    </tr>\n",
       "    <tr>\n",
       "      <th>Apayao</th>\n",
       "      <td>2934</td>\n",
       "      <td>9235</td>\n",
       "      <td>1922</td>\n",
       "      <td>14501</td>\n",
       "      <td>2385</td>\n",
       "      <td>7452</td>\n",
       "      <td>1099</td>\n",
       "      <td>17038</td>\n",
       "      <td>1382</td>\n",
       "      <td>10588</td>\n",
       "      <td>...</td>\n",
       "      <td>37625</td>\n",
       "      <td>19532</td>\n",
       "      <td>35126</td>\n",
       "      <td>6335</td>\n",
       "      <td>38613</td>\n",
       "      <td>20878</td>\n",
       "      <td>40065</td>\n",
       "      <td>6756</td>\n",
       "      <td>38902</td>\n",
       "      <td>18264</td>\n",
       "    </tr>\n",
       "    <tr>\n",
       "      <th>Benguet</th>\n",
       "      <td>148</td>\n",
       "      <td>4287</td>\n",
       "      <td>1955</td>\n",
       "      <td>3536</td>\n",
       "      <td>2530</td>\n",
       "      <td>771</td>\n",
       "      <td>2796</td>\n",
       "      <td>2463</td>\n",
       "      <td>2592</td>\n",
       "      <td>1064</td>\n",
       "      <td>...</td>\n",
       "      <td>2354</td>\n",
       "      <td>4045</td>\n",
       "      <td>5987</td>\n",
       "      <td>3530</td>\n",
       "      <td>2585</td>\n",
       "      <td>3519</td>\n",
       "      <td>7062</td>\n",
       "      <td>3561</td>\n",
       "      <td>2583</td>\n",
       "      <td>3745</td>\n",
       "    </tr>\n",
       "    <tr>\n",
       "      <th>Ifugao</th>\n",
       "      <td>3300</td>\n",
       "      <td>8063</td>\n",
       "      <td>1074</td>\n",
       "      <td>19607</td>\n",
       "      <td>3315</td>\n",
       "      <td>13134</td>\n",
       "      <td>5134</td>\n",
       "      <td>14226</td>\n",
       "      <td>6842</td>\n",
       "      <td>13828</td>\n",
       "      <td>...</td>\n",
       "      <td>9838</td>\n",
       "      <td>17125</td>\n",
       "      <td>18940</td>\n",
       "      <td>15560</td>\n",
       "      <td>7746</td>\n",
       "      <td>19737</td>\n",
       "      <td>19422</td>\n",
       "      <td>15910</td>\n",
       "      <td>11096</td>\n",
       "      <td>16787</td>\n",
       "    </tr>\n",
       "    <tr>\n",
       "      <th>Kalinga</th>\n",
       "      <td>10553</td>\n",
       "      <td>35257</td>\n",
       "      <td>4544</td>\n",
       "      <td>31687</td>\n",
       "      <td>8520</td>\n",
       "      <td>28252</td>\n",
       "      <td>3106</td>\n",
       "      <td>36238</td>\n",
       "      <td>4973</td>\n",
       "      <td>40140</td>\n",
       "      <td>...</td>\n",
       "      <td>65782</td>\n",
       "      <td>15279</td>\n",
       "      <td>52437</td>\n",
       "      <td>24385</td>\n",
       "      <td>66148</td>\n",
       "      <td>16513</td>\n",
       "      <td>61808</td>\n",
       "      <td>23349</td>\n",
       "      <td>68663</td>\n",
       "      <td>16900</td>\n",
       "    </tr>\n",
       "  </tbody>\n",
       "</table>\n",
       "<p>5 rows × 79 columns</p>\n",
       "</div>"
      ],
      "text/plain": [
       "            0      1     2      3     4      5     6      7     8      9   \\\n",
       "Abra      1243   4158  1787  17152  1266   5576   927  21540  1039   5424   \n",
       "Apayao    2934   9235  1922  14501  2385   7452  1099  17038  1382  10588   \n",
       "Benguet    148   4287  1955   3536  2530    771  2796   2463  2592   1064   \n",
       "Ifugao    3300   8063  1074  19607  3315  13134  5134  14226  6842  13828   \n",
       "Kalinga  10553  35257  4544  31687  8520  28252  3106  36238  4973  40140   \n",
       "\n",
       "         ...       69     70     71     72     73     74     75     76     77  \\\n",
       "Abra     ...    12763   2470  59094   6209  13316   2505  60303   6311  13345   \n",
       "Apayao   ...    37625  19532  35126   6335  38613  20878  40065   6756  38902   \n",
       "Benguet  ...     2354   4045   5987   3530   2585   3519   7062   3561   2583   \n",
       "Ifugao   ...     9838  17125  18940  15560   7746  19737  19422  15910  11096   \n",
       "Kalinga  ...    65782  15279  52437  24385  66148  16513  61808  23349  68663   \n",
       "\n",
       "            78  \n",
       "Abra      2623  \n",
       "Apayao   18264  \n",
       "Benguet   3745  \n",
       "Ifugao   16787  \n",
       "Kalinga  16900  \n",
       "\n",
       "[5 rows x 79 columns]"
      ]
     },
     "execution_count": 6,
     "metadata": {},
     "output_type": "execute_result"
    }
   ],
   "source": [
    "df.T # transpose"
   ]
  },
  {
   "cell_type": "code",
   "execution_count": 7,
   "metadata": {},
   "outputs": [
    {
     "name": "stderr",
     "output_type": "stream",
     "text": [
      "C:\\Users\\HASEE\\Anaconda3\\lib\\site-packages\\ipykernel_launcher.py:1: DeprecationWarning: \n",
      ".ix is deprecated. Please use\n",
      ".loc for label based indexing or\n",
      ".iloc for positional indexing\n",
      "\n",
      "See the documentation here:\n",
      "http://pandas.pydata.org/pandas-docs/stable/indexing.html#ix-indexer-is-deprecated\n",
      "  \"\"\"Entry point for launching an IPython kernel.\n"
     ]
    },
    {
     "data": {
      "text/plain": [
       "0     1243\n",
       "1     4158\n",
       "2     1787\n",
       "3    17152\n",
       "4     1266\n",
       "Name: Abra, dtype: int64"
      ]
     },
     "execution_count": 7,
     "metadata": {},
     "output_type": "execute_result"
    }
   ],
   "source": [
    "df.ix[:, 0].head() # select first column and print first 5 lines"
   ]
  },
  {
   "cell_type": "code",
   "execution_count": 8,
   "metadata": {},
   "outputs": [
    {
     "data": {
      "text/plain": [
       "0     1243\n",
       "1     4158\n",
       "2     1787\n",
       "3    17152\n",
       "4     1266\n",
       "Name: Abra, dtype: int64"
      ]
     },
     "execution_count": 8,
     "metadata": {},
     "output_type": "execute_result"
    }
   ],
   "source": [
    "df.iloc[:, 0].head() # .ix() is deprecated, using .iloc()"
   ]
  },
  {
   "cell_type": "code",
   "execution_count": 9,
   "metadata": {},
   "outputs": [
    {
     "data": {
      "text/html": [
       "<div>\n",
       "<style scoped>\n",
       "    .dataframe tbody tr th:only-of-type {\n",
       "        vertical-align: middle;\n",
       "    }\n",
       "\n",
       "    .dataframe tbody tr th {\n",
       "        vertical-align: top;\n",
       "    }\n",
       "\n",
       "    .dataframe thead th {\n",
       "        text-align: right;\n",
       "    }\n",
       "</style>\n",
       "<table border=\"1\" class=\"dataframe\">\n",
       "  <thead>\n",
       "    <tr style=\"text-align: right;\">\n",
       "      <th></th>\n",
       "      <th>Abra</th>\n",
       "      <th>Apayao</th>\n",
       "      <th>Benguet</th>\n",
       "    </tr>\n",
       "  </thead>\n",
       "  <tbody>\n",
       "    <tr>\n",
       "      <th>10</th>\n",
       "      <td>981</td>\n",
       "      <td>1311</td>\n",
       "      <td>2560</td>\n",
       "    </tr>\n",
       "    <tr>\n",
       "      <th>11</th>\n",
       "      <td>27366</td>\n",
       "      <td>15093</td>\n",
       "      <td>3039</td>\n",
       "    </tr>\n",
       "    <tr>\n",
       "      <th>12</th>\n",
       "      <td>1100</td>\n",
       "      <td>1701</td>\n",
       "      <td>2382</td>\n",
       "    </tr>\n",
       "    <tr>\n",
       "      <th>13</th>\n",
       "      <td>7212</td>\n",
       "      <td>11001</td>\n",
       "      <td>1088</td>\n",
       "    </tr>\n",
       "    <tr>\n",
       "      <th>14</th>\n",
       "      <td>1048</td>\n",
       "      <td>1427</td>\n",
       "      <td>2847</td>\n",
       "    </tr>\n",
       "    <tr>\n",
       "      <th>15</th>\n",
       "      <td>25679</td>\n",
       "      <td>15661</td>\n",
       "      <td>2942</td>\n",
       "    </tr>\n",
       "    <tr>\n",
       "      <th>16</th>\n",
       "      <td>1055</td>\n",
       "      <td>2191</td>\n",
       "      <td>2119</td>\n",
       "    </tr>\n",
       "    <tr>\n",
       "      <th>17</th>\n",
       "      <td>5437</td>\n",
       "      <td>6461</td>\n",
       "      <td>734</td>\n",
       "    </tr>\n",
       "    <tr>\n",
       "      <th>18</th>\n",
       "      <td>1029</td>\n",
       "      <td>1183</td>\n",
       "      <td>2302</td>\n",
       "    </tr>\n",
       "    <tr>\n",
       "      <th>19</th>\n",
       "      <td>23710</td>\n",
       "      <td>12222</td>\n",
       "      <td>2598</td>\n",
       "    </tr>\n",
       "  </tbody>\n",
       "</table>\n",
       "</div>"
      ],
      "text/plain": [
       "     Abra  Apayao  Benguet\n",
       "10    981    1311     2560\n",
       "11  27366   15093     3039\n",
       "12   1100    1701     2382\n",
       "13   7212   11001     1088\n",
       "14   1048    1427     2847\n",
       "15  25679   15661     2942\n",
       "16   1055    2191     2119\n",
       "17   5437    6461      734\n",
       "18   1029    1183     2302\n",
       "19  23710   12222     2598"
      ]
     },
     "execution_count": 9,
     "metadata": {},
     "output_type": "execute_result"
    }
   ],
   "source": [
    "df.iloc[10:20, 0:3] # select row10-row20, column1-column3"
   ]
  },
  {
   "cell_type": "code",
   "execution_count": 10,
   "metadata": {},
   "outputs": [
    {
     "data": {
      "text/html": [
       "<div>\n",
       "<style scoped>\n",
       "    .dataframe tbody tr th:only-of-type {\n",
       "        vertical-align: middle;\n",
       "    }\n",
       "\n",
       "    .dataframe tbody tr th {\n",
       "        vertical-align: top;\n",
       "    }\n",
       "\n",
       "    .dataframe thead th {\n",
       "        text-align: right;\n",
       "    }\n",
       "</style>\n",
       "<table border=\"1\" class=\"dataframe\">\n",
       "  <thead>\n",
       "    <tr style=\"text-align: right;\">\n",
       "      <th></th>\n",
       "      <th>Abra</th>\n",
       "      <th>Apayao</th>\n",
       "      <th>Benguet</th>\n",
       "    </tr>\n",
       "  </thead>\n",
       "  <tbody>\n",
       "    <tr>\n",
       "      <th>10</th>\n",
       "      <td>981</td>\n",
       "      <td>1311</td>\n",
       "      <td>2560</td>\n",
       "    </tr>\n",
       "    <tr>\n",
       "      <th>11</th>\n",
       "      <td>27366</td>\n",
       "      <td>15093</td>\n",
       "      <td>3039</td>\n",
       "    </tr>\n",
       "    <tr>\n",
       "      <th>12</th>\n",
       "      <td>1100</td>\n",
       "      <td>1701</td>\n",
       "      <td>2382</td>\n",
       "    </tr>\n",
       "    <tr>\n",
       "      <th>13</th>\n",
       "      <td>7212</td>\n",
       "      <td>11001</td>\n",
       "      <td>1088</td>\n",
       "    </tr>\n",
       "    <tr>\n",
       "      <th>14</th>\n",
       "      <td>1048</td>\n",
       "      <td>1427</td>\n",
       "      <td>2847</td>\n",
       "    </tr>\n",
       "    <tr>\n",
       "      <th>15</th>\n",
       "      <td>25679</td>\n",
       "      <td>15661</td>\n",
       "      <td>2942</td>\n",
       "    </tr>\n",
       "    <tr>\n",
       "      <th>16</th>\n",
       "      <td>1055</td>\n",
       "      <td>2191</td>\n",
       "      <td>2119</td>\n",
       "    </tr>\n",
       "    <tr>\n",
       "      <th>17</th>\n",
       "      <td>5437</td>\n",
       "      <td>6461</td>\n",
       "      <td>734</td>\n",
       "    </tr>\n",
       "    <tr>\n",
       "      <th>18</th>\n",
       "      <td>1029</td>\n",
       "      <td>1183</td>\n",
       "      <td>2302</td>\n",
       "    </tr>\n",
       "    <tr>\n",
       "      <th>19</th>\n",
       "      <td>23710</td>\n",
       "      <td>12222</td>\n",
       "      <td>2598</td>\n",
       "    </tr>\n",
       "  </tbody>\n",
       "</table>\n",
       "</div>"
      ],
      "text/plain": [
       "     Abra  Apayao  Benguet\n",
       "10    981    1311     2560\n",
       "11  27366   15093     3039\n",
       "12   1100    1701     2382\n",
       "13   7212   11001     1088\n",
       "14   1048    1427     2847\n",
       "15  25679   15661     2942\n",
       "16   1055    2191     2119\n",
       "17   5437    6461      734\n",
       "18   1029    1183     2302\n",
       "19  23710   12222     2598"
      ]
     },
     "execution_count": 10,
     "metadata": {},
     "output_type": "execute_result"
    }
   ],
   "source": [
    "# select by column name\n",
    "df.iloc[10: 20, df.columns.get_indexer(['Abra', 'Apayao', 'Benguet'])]"
   ]
  },
  {
   "cell_type": "code",
   "execution_count": 11,
   "metadata": {},
   "outputs": [
    {
     "data": {
      "text/html": [
       "<div>\n",
       "<style scoped>\n",
       "    .dataframe tbody tr th:only-of-type {\n",
       "        vertical-align: middle;\n",
       "    }\n",
       "\n",
       "    .dataframe tbody tr th {\n",
       "        vertical-align: top;\n",
       "    }\n",
       "\n",
       "    .dataframe thead th {\n",
       "        text-align: right;\n",
       "    }\n",
       "</style>\n",
       "<table border=\"1\" class=\"dataframe\">\n",
       "  <thead>\n",
       "    <tr style=\"text-align: right;\">\n",
       "      <th></th>\n",
       "      <th>Abra</th>\n",
       "      <th>Ifugao</th>\n",
       "      <th>Kalinga</th>\n",
       "    </tr>\n",
       "  </thead>\n",
       "  <tbody>\n",
       "    <tr>\n",
       "      <th>0</th>\n",
       "      <td>1243</td>\n",
       "      <td>3300</td>\n",
       "      <td>10553</td>\n",
       "    </tr>\n",
       "    <tr>\n",
       "      <th>1</th>\n",
       "      <td>4158</td>\n",
       "      <td>8063</td>\n",
       "      <td>35257</td>\n",
       "    </tr>\n",
       "    <tr>\n",
       "      <th>2</th>\n",
       "      <td>1787</td>\n",
       "      <td>1074</td>\n",
       "      <td>4544</td>\n",
       "    </tr>\n",
       "    <tr>\n",
       "      <th>3</th>\n",
       "      <td>17152</td>\n",
       "      <td>19607</td>\n",
       "      <td>31687</td>\n",
       "    </tr>\n",
       "    <tr>\n",
       "      <th>4</th>\n",
       "      <td>1266</td>\n",
       "      <td>3315</td>\n",
       "      <td>8520</td>\n",
       "    </tr>\n",
       "  </tbody>\n",
       "</table>\n",
       "</div>"
      ],
      "text/plain": [
       "    Abra  Ifugao  Kalinga\n",
       "0   1243    3300    10553\n",
       "1   4158    8063    35257\n",
       "2   1787    1074     4544\n",
       "3  17152   19607    31687\n",
       "4   1266    3315     8520"
      ]
     },
     "execution_count": 11,
     "metadata": {},
     "output_type": "execute_result"
    }
   ],
   "source": [
    "# drop the second and third columns\n",
    "df.drop(df.columns[[1, 2]], axis=1).head()"
   ]
  },
  {
   "cell_type": "markdown",
   "metadata": {},
   "source": [
    "## 描述统计"
   ]
  },
  {
   "cell_type": "code",
   "execution_count": 12,
   "metadata": {},
   "outputs": [
    {
     "data": {
      "text/html": [
       "<div>\n",
       "<style scoped>\n",
       "    .dataframe tbody tr th:only-of-type {\n",
       "        vertical-align: middle;\n",
       "    }\n",
       "\n",
       "    .dataframe tbody tr th {\n",
       "        vertical-align: top;\n",
       "    }\n",
       "\n",
       "    .dataframe thead th {\n",
       "        text-align: right;\n",
       "    }\n",
       "</style>\n",
       "<table border=\"1\" class=\"dataframe\">\n",
       "  <thead>\n",
       "    <tr style=\"text-align: right;\">\n",
       "      <th></th>\n",
       "      <th>Abra</th>\n",
       "      <th>Apayao</th>\n",
       "      <th>Benguet</th>\n",
       "      <th>Ifugao</th>\n",
       "      <th>Kalinga</th>\n",
       "    </tr>\n",
       "  </thead>\n",
       "  <tbody>\n",
       "    <tr>\n",
       "      <th>count</th>\n",
       "      <td>79.000000</td>\n",
       "      <td>79.000000</td>\n",
       "      <td>79.000000</td>\n",
       "      <td>79.000000</td>\n",
       "      <td>79.000000</td>\n",
       "    </tr>\n",
       "    <tr>\n",
       "      <th>mean</th>\n",
       "      <td>12874.379747</td>\n",
       "      <td>16860.645570</td>\n",
       "      <td>3237.392405</td>\n",
       "      <td>12414.620253</td>\n",
       "      <td>30446.417722</td>\n",
       "    </tr>\n",
       "    <tr>\n",
       "      <th>std</th>\n",
       "      <td>16746.466945</td>\n",
       "      <td>15448.153794</td>\n",
       "      <td>1588.536429</td>\n",
       "      <td>5034.282019</td>\n",
       "      <td>22245.707692</td>\n",
       "    </tr>\n",
       "    <tr>\n",
       "      <th>min</th>\n",
       "      <td>927.000000</td>\n",
       "      <td>401.000000</td>\n",
       "      <td>148.000000</td>\n",
       "      <td>1074.000000</td>\n",
       "      <td>2346.000000</td>\n",
       "    </tr>\n",
       "    <tr>\n",
       "      <th>25%</th>\n",
       "      <td>1524.000000</td>\n",
       "      <td>3435.500000</td>\n",
       "      <td>2328.000000</td>\n",
       "      <td>8205.000000</td>\n",
       "      <td>8601.500000</td>\n",
       "    </tr>\n",
       "    <tr>\n",
       "      <th>50%</th>\n",
       "      <td>5790.000000</td>\n",
       "      <td>10588.000000</td>\n",
       "      <td>3202.000000</td>\n",
       "      <td>13044.000000</td>\n",
       "      <td>24494.000000</td>\n",
       "    </tr>\n",
       "    <tr>\n",
       "      <th>75%</th>\n",
       "      <td>13330.500000</td>\n",
       "      <td>33289.000000</td>\n",
       "      <td>3918.500000</td>\n",
       "      <td>16099.500000</td>\n",
       "      <td>52510.500000</td>\n",
       "    </tr>\n",
       "    <tr>\n",
       "      <th>max</th>\n",
       "      <td>60303.000000</td>\n",
       "      <td>54625.000000</td>\n",
       "      <td>8813.000000</td>\n",
       "      <td>21031.000000</td>\n",
       "      <td>68663.000000</td>\n",
       "    </tr>\n",
       "  </tbody>\n",
       "</table>\n",
       "</div>"
      ],
      "text/plain": [
       "               Abra        Apayao      Benguet        Ifugao       Kalinga\n",
       "count     79.000000     79.000000    79.000000     79.000000     79.000000\n",
       "mean   12874.379747  16860.645570  3237.392405  12414.620253  30446.417722\n",
       "std    16746.466945  15448.153794  1588.536429   5034.282019  22245.707692\n",
       "min      927.000000    401.000000   148.000000   1074.000000   2346.000000\n",
       "25%     1524.000000   3435.500000  2328.000000   8205.000000   8601.500000\n",
       "50%     5790.000000  10588.000000  3202.000000  13044.000000  24494.000000\n",
       "75%    13330.500000  33289.000000  3918.500000  16099.500000  52510.500000\n",
       "max    60303.000000  54625.000000  8813.000000  21031.000000  68663.000000"
      ]
     },
     "execution_count": 12,
     "metadata": {},
     "output_type": "execute_result"
    }
   ],
   "source": [
    "df.describe() # using .describe() to describe the dataset"
   ]
  },
  {
   "cell_type": "markdown",
   "metadata": {},
   "source": [
    "## 假设检验"
   ]
  },
  {
   "cell_type": "code",
   "execution_count": 13,
   "metadata": {},
   "outputs": [
    {
     "data": {
      "text/plain": [
       "Ttest_1sampResult(statistic=-1.1281738488299586, pvalue=0.26270472069109496)"
      ]
     },
     "execution_count": 13,
     "metadata": {},
     "output_type": "execute_result"
    }
   ],
   "source": [
    "# One-sample t test on 'Abra'\n",
    "ss.ttest_1samp(a=df.iloc[:, df.columns.get_loc('Abra')], popmean=15000)"
   ]
  },
  {
   "cell_type": "code",
   "execution_count": 14,
   "metadata": {},
   "outputs": [
    {
     "data": {
      "text/plain": [
       "Ttest_1sampResult(statistic=array([ -1.12817385,   1.07053437, -65.81425599,  -4.564575  ,\n",
       "         6.17156198]), pvalue=array([2.62704721e-01, 2.87680340e-01, 4.15643528e-70, 1.83764399e-05,\n",
       "       2.82461897e-08]))"
      ]
     },
     "execution_count": 14,
     "metadata": {},
     "output_type": "execute_result"
    }
   ],
   "source": [
    "# One-sample t test on every column\n",
    "ss.ttest_1samp(a=df, popmean=15000)"
   ]
  },
  {
   "cell_type": "markdown",
   "metadata": {},
   "source": [
    "## 可视化"
   ]
  },
  {
   "cell_type": "code",
   "execution_count": 15,
   "metadata": {},
   "outputs": [
    {
     "data": {
      "text/plain": [
       "<Figure size 640x480 with 1 Axes>"
      ]
     },
     "metadata": {},
     "output_type": "display_data"
    }
   ],
   "source": [
    "# draw boxplot by matplotlib\n",
    "import matplotlib.pyplot as plt\n",
    "df.plot(kind='box')\n",
    "plt.show()"
   ]
  },
  {
   "cell_type": "code",
   "execution_count": 16,
   "metadata": {},
   "outputs": [
    {
     "data": {
      "image/png": "[encoded data removed]",
      "text/plain": [
       "<Figure size 432x288 with 1 Axes>"
      ]
     },
     "metadata": {},
     "output_type": "display_data"
    }
   ],
   "source": [
    "# draw boxplot by seaborn\n",
    "import seaborn as sns\n",
    "sns.set_style('whitegrid')\n",
    "sns.boxplot(data=df)\n",
    "plt.show()"
   ]
  },
  {
   "cell_type": "code",
   "execution_count": 17,
   "metadata": {},
   "outputs": [
    {
     "data": {
      "image/png": "[encoded data removed]",
      "text/plain": [
       "<Figure size 432x288 with 1 Axes>"
      ]
     },
     "metadata": {},
     "output_type": "display_data"
    }
   ],
   "source": [
    "# modify the style\n",
    "plt.style.use('ggplot')\n",
    "df.plot(kind='box')\n",
    "plt.show()"
   ]
  },
  {
   "cell_type": "code",
   "execution_count": 18,
   "metadata": {},
   "outputs": [
    {
     "data": {
      "image/png": "[encoded data removed]",
      "text/plain": [
       "<Figure size 432x288 with 1 Axes>"
      ]
     },
     "metadata": {},
     "output_type": "display_data"
    }
   ],
   "source": [
    "# draw a line chart\n",
    "df.mean().plot(kind='line')\n",
    "plt.show()"
   ]
  },
  {
   "cell_type": "code",
   "execution_count": 19,
   "metadata": {},
   "outputs": [
    {
     "data": {
      "image/png": "[encoded data removed]",
      "text/plain": [
       "<Figure size 432x288 with 1 Axes>"
      ]
     },
     "metadata": {},
     "output_type": "display_data"
    }
   ],
   "source": [
    "# draw a line chart by seaborn\n",
    "sns.pointplot(x=df.columns, y=df.mean())\n",
    "plt.show()"
   ]
  },
  {
   "cell_type": "code",
   "execution_count": 20,
   "metadata": {},
   "outputs": [
    {
     "data": {
      "image/png": "[encoded data removed]",
      "text/plain": [
       "<Figure size 432x288 with 1 Axes>"
      ]
     },
     "metadata": {},
     "output_type": "display_data"
    }
   ],
   "source": [
    "# histogram\n",
    "df.mean().plot(kind='bar')\n",
    "plt.show()"
   ]
  },
  {
   "cell_type": "code",
   "execution_count": 21,
   "metadata": {},
   "outputs": [
    {
     "data": {
      "image/png": "[encoded data removed]",
      "text/plain": [
       "<Figure size 432x288 with 1 Axes>"
      ]
     },
     "metadata": {},
     "output_type": "display_data"
    }
   ],
   "source": [
    "# histogram by seaborn\n",
    "sns.barplot(x=df.columns, y=df.mean())\n",
    "plt.show()"
   ]
  },
  {
   "cell_type": "markdown",
   "metadata": {},
   "source": [
    "## 创建自定义函数"
   ]
  },
  {
   "cell_type": "code",
   "execution_count": 22,
   "metadata": {},
   "outputs": [
    {
     "data": {
      "text/plain": [
       "4"
      ]
     },
     "execution_count": 22,
     "metadata": {},
     "output_type": "execute_result"
    }
   ],
   "source": [
    "def add_2int(x, y):\n",
    "    return x + y\n",
    "add_2int(2, 2)"
   ]
  },
  {
   "cell_type": "code",
   "execution_count": 23,
   "metadata": {},
   "outputs": [
    {
     "name": "stdout",
     "output_type": "stream",
     "text": [
      "There are 95.0 confidence intervals that contain the true mean, which is 0.95 of the total CLs.\n"
     ]
    }
   ],
   "source": [
    "import numpy as np\n",
    "def case2(n=10, mu=3, sigma=np.sqrt(5), p=0.025, rep=100):\n",
    "    scaled_crit = ss.norm.ppf(q=1-p) * (sigma / np.sqrt(n))\n",
    "    norm = np.random.normal(loc=mu, scale=sigma, size=(rep, n))\n",
    "    xbar = norm.mean(1)\n",
    "    low = xbar - scaled_crit\n",
    "    up = xbar + scaled_crit\n",
    "    rem = (mu > low) & (mu < up)\n",
    "    m = np.c_[xbar, low, up, rem]\n",
    "    inside = np.sum(m[:, 3])\n",
    "    per = inside / rep\n",
    "    desc = \"There are \" + str(inside) + \" confidence intervals that contain the true mean, which is \" + str(per) + \" of the total CLs.\"\n",
    "    print(desc)\n",
    "case2()"
   ]
  },
  {
   "cell_type": "code",
   "execution_count": 24,
   "metadata": {},
   "outputs": [],
   "source": [
    "# import\n",
    "from sklearn.cluster import KMeans\n",
    "from PIL import Image"
   ]
  },
  {
   "cell_type": "code",
   "execution_count": 25,
   "metadata": {},
   "outputs": [],
   "source": [
    "im = np.array(Image.open('check.gif')) # img->vec\n",
    "h, w = im.shape\n",
    "X = [(h-x, y) for x in range(h) for y in range(w) if im[x][y] < 200] #以200为阈值读取图像中的颜色\n",
    "X = np.array(X)"
   ]
  },
  {
   "cell_type": "code",
   "execution_count": 26,
   "metadata": {},
   "outputs": [
    {
     "data": {
      "text/plain": [
       "KMeans(algorithm='auto', copy_x=True, init='k-means++', max_iter=300,\n",
       "    n_clusters=4, n_init=10, n_jobs=1, precompute_distances='auto',\n",
       "    random_state=None, tol=0.0001, verbose=0)"
      ]
     },
     "execution_count": 26,
     "metadata": {},
     "output_type": "execute_result"
    }
   ],
   "source": [
    "n_clusters = 4 #number of clusters\n",
    "# init KMeans\n",
    "k_means = KMeans(init='k-means++', n_clusters=n_clusters)\n",
    "k_means.fit(X)"
   ]
  },
  {
   "cell_type": "code",
   "execution_count": 27,
   "metadata": {},
   "outputs": [
    {
     "name": "stderr",
     "output_type": "stream",
     "text": [
      "C:\\Users\\HASEE\\Anaconda3\\lib\\site-packages\\ipykernel_launcher.py:8: MatplotlibDeprecationWarning: pyplot.hold is deprecated.\n",
      "    Future behavior will be consistent with the long-time default:\n",
      "    plot commands add elements without first clearing the\n",
      "    Axes and/or Figure.\n",
      "  \n",
      "C:\\Users\\HASEE\\Anaconda3\\lib\\site-packages\\matplotlib\\__init__.py:910: MatplotlibDeprecationWarning: axes.hold is deprecated. Please remove it from your matplotlibrc and/or style files.\n",
      "  mplDeprecation)\n",
      "C:\\Users\\HASEE\\Anaconda3\\lib\\site-packages\\matplotlib\\rcsetup.py:156: MatplotlibDeprecationWarning: axes.hold is deprecated, will be removed in 3.0\n",
      "  mplDeprecation)\n"
     ]
    },
    {
     "data": {
      "image/png": "[encoded data removed]",
      "text/plain": [
       "<Figure size 432x288 with 1 Axes>"
      ]
     },
     "metadata": {},
     "output_type": "display_data"
    }
   ],
   "source": [
    "# result plot\n",
    "k_means_labels = k_means.labels_\n",
    "k_means_cluster_centers = k_means.cluster_centers_\n",
    "k_means_labels_unique = np.unique(k_means_labels)\n",
    "\n",
    "colors = ['#4EACC5', '#FF9C34', '#4E9A06', '#FF3300']\n",
    "plt.figure()\n",
    "plt.hold(True)\n",
    "for k, col in zip(range(n_clusters), colors):\n",
    "    my_members = k_means_labels == k\n",
    "    cluster_center = k_means_cluster_centers[k]\n",
    "    plt.plot(X[my_members, 1], X[my_members, 0], 'w', markerfacecolor=col, marker='.')\n",
    "    plt.plot(cluster_center[1], cluster_center[0], markerfacecolor=col, markeredgecolor='k', markersize=6)\n",
    "plt.title('KMeans')\n",
    "plt.grid(True)\n",
    "plt.show()"
   ]
  },
  {
   "cell_type": "markdown",
   "metadata": {},
   "source": [
    "# 实验感想"
   ]
  },
  {
   "cell_type": "markdown",
   "metadata": {},
   "source": [
    "在本次实验中,我使用了anaconda提供的数据分析包进行了简单的数据分析,在实验进行过程中我深深地感受到了python语言以及包支持的强大.相关使用到的python包,如形成dataframe的pandas,又如进行矩阵操作的numpy都相当的重要.在今后加深对于这些包的学习我认为是很有必要的."
   ]
  }
 ],
 "metadata": {
  "kernelspec": {
   "display_name": "Python 3",
   "language": "python",
   "name": "python3"
  },
  "language_info": {
   "codemirror_mode": {
    "name": "ipython",
    "version": 3
   },
   "file_extension": ".py",
   "mimetype": "text/x-python",
   "name": "python",
   "nbconvert_exporter": "python",
   "pygments_lexer": "ipython3",
   "version": "3.6.6"
  }
 },
 "nbformat": 4,
 "nbformat_minor": 2
}
