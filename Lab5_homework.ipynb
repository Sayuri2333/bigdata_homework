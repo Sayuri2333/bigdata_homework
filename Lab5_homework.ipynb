{
 "cells": [
  {
   "cell_type": "markdown",
   "metadata": {},
   "source": [
    "# lab5 实验报告"
   ]
  },
  {
   "cell_type": "markdown",
   "metadata": {},
   "source": [
    "姓名:李广泓 学号:16369031 学院:资讯管理学院 专业: 信息管理与信息系统"
   ]
  },
  {
   "cell_type": "markdown",
   "metadata": {},
   "source": [
    "# 实验目的"
   ]
  },
  {
   "cell_type": "markdown",
   "metadata": {},
   "source": [
    "* 学习使用Python访问Baidu Web的API, 以及sklearn的GMM模型"
   ]
  },
  {
   "cell_type": "markdown",
   "metadata": {},
   "source": [
    "## 实验步骤"
   ]
  },
  {
   "cell_type": "markdown",
   "metadata": {},
   "source": [
    "### 获取百度地图数据"
   ]
  },
  {
   "cell_type": "code",
   "execution_count": 36,
   "metadata": {
    "scrolled": true
   },
   "outputs": [
    {
     "name": "stdout",
     "output_type": "stream",
     "text": [
      "39.999823\t116.337129\t\n",
      "39.930828\t116.386323\t\n",
      "39.907596\t116.669027\t\n",
      "39.913481\t116.669950\t\n",
      "40.070405\t116.423010\t\n"
     ]
    }
   ],
   "source": [
    "def geoGrab():\n",
    "    import json  \n",
    "    import urllib.request \n",
    "    j=0\n",
    "    f=open(r'Restaurant_Data_Beijing.txt','w') \n",
    "    for j in range (0,5):\n",
    "        a = 'http://api.map.baidu.com/place/v2/search?q=%E9%A5%AD%E5%BA%97&page_size=20&page_num='\n",
    "        b = '&region=%E5%8C%97%E4%BA%AC&output=json&ak=SaG5y6eI888RC0tLrk5O73XVfpcmdiKg'\n",
    "        #上面的汉字(百分号部分)做了urlencode处理，原本是”饭店”和”北京”\n",
    "        #密钥需要自己申请，然后替换掉上面的“秘钥”\n",
    "        c =str(j)\n",
    "        url=a+c+b\n",
    "        j=j+1\n",
    "        #url='http://api.map.baidu.com/place/v2/search?q=%E9%A5%AD%E5%BA%97&page_size=20'+\n",
    "        #'&page_num=19&region=%E5%8C%97%E4%BA%AC&output=json&ak=qUPyb0ZPGmT41cL9L5irQzcnc48yIEck'\n",
    "        temp=urllib.request.urlopen(url) \n",
    "             \n",
    "        #把字符串解析成为Python对象\n",
    "        hjson = json.loads(temp.read().decode('utf-8'))\n",
    "        i=0\n",
    "        for i in range (0,1):\n",
    "            lat=hjson['results'][i]['location']['lat']\n",
    "            lng=hjson['results'][i]['location']['lng']\n",
    "            print ('%s\\t%f\\t' % (lat,lng))\n",
    "            f.write('%s\\t%f\\t\\n' % (lat,lng))\n",
    "            i=i+1\n",
    "    f.close()\n",
    "geoGrab()"
   ]
  },
  {
   "cell_type": "markdown",
   "metadata": {},
   "source": [
    "### 使用sklearn中的GMM模型聚类"
   ]
  },
  {
   "cell_type": "code",
   "execution_count": 2,
   "metadata": {},
   "outputs": [],
   "source": [
    "import numpy as np\n",
    "def load_data(file_name):\n",
    "    f = open(file_name,'r')\n",
    "    data = f.readlines()\n",
    "    f.close()\n",
    "    feature_list = []\n",
    "    for line in data:\n",
    "        tmp = list(map(float, line.split('\\t')[0:2]))\n",
    "        feature_list.append([tmp[0],tmp[1]])\n",
    "    features = np.array(feature_list)\n",
    "    print(\"Shape: %s\"%str(features.shape))\n",
    "    return features"
   ]
  },
  {
   "cell_type": "code",
   "execution_count": 3,
   "metadata": {},
   "outputs": [
    {
     "name": "stdout",
     "output_type": "stream",
     "text": [
      "Shape: (400, 2)\n"
     ]
    }
   ],
   "source": [
    "sample=load_data('Restaurant_Data_Beijing.txt')"
   ]
  },
  {
   "cell_type": "code",
   "execution_count": 4,
   "metadata": {},
   "outputs": [
    {
     "name": "stdout",
     "output_type": "stream",
     "text": [
      "[[ 39.915769 116.434797]\n",
      " [ 39.915302 116.416703]\n",
      " [ 39.977517 116.344784]\n",
      " [ 39.995559 116.39352 ]\n",
      " [ 39.959371 116.287243]]\n"
     ]
    }
   ],
   "source": [
    "print(sample[:5])"
   ]
  },
  {
   "cell_type": "code",
   "execution_count": 5,
   "metadata": {},
   "outputs": [],
   "source": [
    "from sklearn.mixture import GaussianMixture\n",
    "gmm=GaussianMixture(n_components=4, covariance_type='tied')"
   ]
  },
  {
   "cell_type": "code",
   "execution_count": 6,
   "metadata": {},
   "outputs": [],
   "source": [
    "result=gmm.fit(sample)"
   ]
  },
  {
   "cell_type": "code",
   "execution_count": 7,
   "metadata": {},
   "outputs": [],
   "source": [
    "label=gmm.predict(sample)"
   ]
  },
  {
   "cell_type": "code",
   "execution_count": 8,
   "metadata": {},
   "outputs": [
    {
     "name": "stdout",
     "output_type": "stream",
     "text": [
      "center: [[ 39.92794947 116.39166015]\n",
      " [ 40.659145   117.23369795]\n",
      " [ 40.49900223 116.84924278]\n",
      " [ 40.23643062 117.13075845]]\n",
      "result: GaussianMixture(covariance_type='tied', init_params='kmeans', max_iter=100,\n",
      "        means_init=None, n_components=4, n_init=1, precisions_init=None,\n",
      "        random_state=None, reg_covar=1e-06, tol=0.001, verbose=0,\n",
      "        verbose_interval=10, warm_start=False, weights_init=None)\n",
      "label: [0 0 0 0 0 0 0 0 0 0 0 0 0 0 0 0 0 0 0 0 0 0 0 0 0 0 0 0 0 0 0 0 0 0 0 0 0\n",
      " 0 0 0 0 0 0 0 0 0 0 0 0 0 0 0 0 0 0 0 0 0 0 0 0 0 0 0 0 0 0 0 0 0 0 0 0 0\n",
      " 0 0 0 0 0 0 0 0 0 0 0 0 0 0 0 0 0 0 0 0 0 0 0 0 0 0 0 0 0 0 0 0 0 0 0 0 0\n",
      " 0 0 0 0 2 0 0 0 0 0 0 0 0 2 0 0 0 0 2 0 0 0 0 0 0 0 0 0 0 0 0 0 0 0 0 0 0\n",
      " 0 0 0 0 0 0 0 0 0 0 0 0 0 0 0 0 0 0 2 1 0 0 0 1 0 0 0 0 0 0 0 0 0 0 3 0 0\n",
      " 0 0 0 0 2 0 2 3 1 0 0 0 1 0 0 0 3 0 0 2 2 0 0 1 0 0 0 2 3 0 1 0 2 0 0 0 0\n",
      " 2 1 3 0 2 2 0 2 2 1 1 1 2 0 3 2 3 2 0 3 1 2 0 0 2 3 0 2 2 2 0 2 2 3 2 2 3\n",
      " 1 1 1 1 0 3 2 3 0 2 2 0 0 2 2 1 2 3 2 3 3 3 3 3 2 0 0 2 0 2 2 3 0 2 2 1 2\n",
      " 0 0 0 2 1 2 3 2 2 2 1 1 2 2 2 1 1 3 2 2 3 2 2 2 2 2 1 2 1 2 2 3 2 3 2 2 1\n",
      " 3 2 1 2 2 2 2 2 2 2 2 2 2 1 3 3 2 2 2 2 1 1 1 1 1 1 1 1 1 1 1 1 1 1 1 1 1\n",
      " 1 1 1 1 1 1 1 1 1 1 1 1 1 1 1 1 1 1 1 1 2 2 2 2 2 2 2 2 2 2]\n"
     ]
    }
   ],
   "source": [
    "center=gmm.means_\n",
    "print(\"center:\",center)\n",
    "print(\"result:\",result)\n",
    "print(\"label:\",label)"
   ]
  },
  {
   "cell_type": "markdown",
   "metadata": {},
   "source": [
    "## 操作练习"
   ]
  },
  {
   "cell_type": "markdown",
   "metadata": {},
   "source": [
    "### 对聚类结果可视化"
   ]
  },
  {
   "cell_type": "code",
   "execution_count": 9,
   "metadata": {},
   "outputs": [
    {
     "data": {
      "text/plain": [
       "array([ 39.915769, 116.434797])"
      ]
     },
     "execution_count": 9,
     "metadata": {},
     "output_type": "execute_result"
    }
   ],
   "source": [
    "sample[0]"
   ]
  },
  {
   "cell_type": "code",
   "execution_count": 13,
   "metadata": {},
   "outputs": [
    {
     "name": "stdout",
     "output_type": "stream",
     "text": [
      "[[ 39.915769 116.434797]\n",
      " [ 39.915302 116.416703]\n",
      " [ 39.977517 116.344784]\n",
      " [ 39.995559 116.39352 ]\n",
      " [ 39.959371 116.287243]]\n"
     ]
    }
   ],
   "source": [
    "classes = []\n",
    "for i in np.unique(label):\n",
    "    classes.append(sample[label == i])\n",
    "print(classes[0][:5])"
   ]
  },
  {
   "cell_type": "code",
   "execution_count": 16,
   "metadata": {},
   "outputs": [
    {
     "data": {
      "image/png": "[encoded data removed]",
      "text/plain": [
       "<Figure size 432x288 with 1 Axes>"
      ]
     },
     "metadata": {},
     "output_type": "display_data"
    }
   ],
   "source": [
    "import matplotlib.pyplot as plt\n",
    "import seaborn as sns\n",
    "sns.set(style=\"white\", palette=\"muted\", color_codes=True) \n",
    "plt.plot(classes[0][:, 0], classes[0][:, 1], 'r.')\n",
    "plt.plot(classes[1][:, 0], classes[1][:, 1], 'go')\n",
    "plt.plot(classes[2][:, 0], classes[2][:, 1], 'b*')\n",
    "plt.plot(classes[3][:, 0], classes[3][:, 1], 'y+')\n",
    "plt.plot(center[:, 0], center[:, 1], 'mo', markersize=10)\n",
    "plt.show()"
   ]
  },
  {
   "cell_type": "markdown",
   "metadata": {},
   "source": [
    "### 尝试使用kMeans聚类"
   ]
  },
  {
   "cell_type": "code",
   "execution_count": 27,
   "metadata": {},
   "outputs": [],
   "source": [
    "from sklearn.cluster import KMeans\n",
    "kmeans = KMeans(n_clusters=4)\n",
    "kmeans.fit(sample)\n",
    "result = kmeans.predict(sample)\n",
    "center = kmeans.cluster_centers_"
   ]
  },
  {
   "cell_type": "code",
   "execution_count": 28,
   "metadata": {},
   "outputs": [
    {
     "data": {
      "image/png": "[encoded data removed]",
      "text/plain": [
       "<Figure size 432x288 with 1 Axes>"
      ]
     },
     "metadata": {},
     "output_type": "display_data"
    }
   ],
   "source": [
    "class1 = []\n",
    "for i in np.unique(result):\n",
    "    class1.append(sample[result == i])\n",
    "plt.plot(class1[0][:, 0], class1[0][:, 1], 'r.')\n",
    "plt.plot(class1[1][:, 0], class1[1][:, 1], 'go')\n",
    "plt.plot(class1[2][:, 0], class1[2][:, 1], 'b*')\n",
    "plt.plot(class1[3][:, 0], class1[3][:, 1], 'y+')\n",
    "plt.plot(center[:, 0], center[:, 1], 'mo', markersize=10)\n",
    "plt.show()"
   ]
  },
  {
   "cell_type": "markdown",
   "metadata": {},
   "source": [
    "### 尝试使用DBSCAN聚类"
   ]
  },
  {
   "cell_type": "code",
   "execution_count": 33,
   "metadata": {},
   "outputs": [
    {
     "data": {
      "image/png": "[encoded data removed]",
      "text/plain": [
       "<Figure size 432x288 with 1 Axes>"
      ]
     },
     "metadata": {},
     "output_type": "display_data"
    }
   ],
   "source": [
    "from sklearn.cluster import DBSCAN\n",
    "y_pred = DBSCAN(eps = 0.1, min_samples=5, algorithm='auto').fit_predict(sample)\n",
    "plt.scatter(sample[:, 0], sample[:, 1], c=y_pred)\n",
    "plt.show()"
   ]
  }
 ],
 "metadata": {
  "kernelspec": {
   "display_name": "Python 3",
   "language": "python",
   "name": "python3"
  },
  "language_info": {
   "codemirror_mode": {
    "name": "ipython",
    "version": 3
   },
   "file_extension": ".py",
   "mimetype": "text/x-python",
   "name": "python",
   "nbconvert_exporter": "python",
   "pygments_lexer": "ipython3",
   "version": "3.6.6"
  }
 },
 "nbformat": 4,
 "nbformat_minor": 2
}
